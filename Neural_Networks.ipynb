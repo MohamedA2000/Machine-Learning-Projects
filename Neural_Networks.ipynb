{
  "cells": [
    {
      "cell_type": "markdown",
      "metadata": {
        "id": "view-in-github",
        "colab_type": "text"
      },
      "source": [
        "<a href=\"https://colab.research.google.com/github/MohamedA2000/Machine-Learning-Projects/blob/main/Neural_Networks.ipynb\" target=\"_parent\"><img src=\"https://colab.research.google.com/assets/colab-badge.svg\" alt=\"Open In Colab\"/></a>"
      ]
    },
    {
      "cell_type": "markdown",
      "metadata": {
        "id": "rzFAyUjSIe9g"
      },
      "source": [
        "Create 30, 000 samples which include x and associated y values\n"
      ]
    },
    {
      "cell_type": "code",
      "execution_count": null,
      "metadata": {
        "colab": {
          "base_uri": "https://localhost:8080/"
        },
        "id": "ceXYtU4BG56X",
        "outputId": "1a046ffe-9c56-4097-8f36-290fc6a98a57"
      },
      "outputs": [
        {
          "output_type": "execute_result",
          "data": {
            "text/plain": [
              "array([[-0.25091976,  9.9754927 ],\n",
              "       [ 0.90142861, 11.67826659],\n",
              "       [ 0.46398788, 10.23057702],\n",
              "       ...,\n",
              "       [-0.96108827,  8.48751341],\n",
              "       [-0.19799032,  9.98870484],\n",
              "       [-0.48520404,  9.80617074]])"
            ]
          },
          "metadata": {},
          "execution_count": 2
        }
      ],
      "source": [
        "import numpy as np\n",
        "\n",
        "np.random.seed(42)\n",
        "\n",
        "x = np.random.uniform(low=-1, high=1, size=(30000, 1))\n",
        "\n",
        "y = 0.2 * x**4 + 2 * x**3 + 0.1 * x**2 + 10\n",
        "\n",
        "data = np.concatenate([x, y], axis=1)\n",
        "\n",
        "data\n"
      ]
    },
    {
      "cell_type": "markdown",
      "metadata": {
        "id": "_xFJaYJEIbh6"
      },
      "source": [
        "Question One"
      ]
    },
    {
      "cell_type": "code",
      "execution_count": null,
      "metadata": {
        "colab": {
          "base_uri": "https://localhost:8080/",
          "height": 472
        },
        "id": "9fkWE_qmId1r",
        "outputId": "a548ff6c-e47e-4e3e-e8d0-7f62b7c5459c"
      },
      "outputs": [
        {
          "output_type": "display_data",
          "data": {
            "text/plain": [
              "<Figure size 640x480 with 1 Axes>"
            ],
            "image/png": "[encoded data removed]"
          },
          "metadata": {}
        }
      ],
      "source": [
        "import numpy as np\n",
        "import matplotlib.pyplot as plt\n",
        "\n",
        "def equally_place(n):\n",
        "    x = np.linspace(-1, 1, n).reshape(n, 1)\n",
        "    \n",
        "    y = 0.2 * x**4 + 2 * x**3 + 0.1 * x**2 + 10\n",
        "    \n",
        "    return x, y\n",
        "\n",
        "    #  data\n",
        "x, y = equally_place(100)\n",
        "\n",
        "# plot function\n",
        "plt.plot(x, y)\n",
        "plt.xlabel('x')\n",
        "plt.ylabel('y')\n",
        "plt.title('Function: y = 0.2x^4 + 2x^3 + 0.1x^2 + 10')\n",
        "plt.show()\n",
        "\n"
      ]
    },
    {
      "cell_type": "markdown",
      "metadata": {
        "id": "FTOOam4oKNMf"
      },
      "source": [
        "Question 2"
      ]
    },
    {
      "cell_type": "code",
      "execution_count": null,
      "metadata": {
        "id": "wd8P_twkKODS"
      },
      "outputs": [],
      "source": [
        "import numpy as np\n",
        "\n",
        "def get_dataset(n, shuffle=False):\n",
        "    # generate x values between -1 and 1\n",
        "    x = np.linspace(-1, 1, n).reshape(n, 1)\n",
        "    y = 0.2 * x**4 + 2 * x**3 + 0.1 * x**2 + 10\n",
        "    # combine x and y into a single array\n",
        "    data = np.concatenate([x, y], axis=1)\n",
        "    \n",
        "    if shuffle:\n",
        "        np.random.shuffle(data)\n",
        "    \n",
        "    return data\n",
        "# generate unshuffled data\n",
        "data_unshuffled = get_dataset(100, shuffle= False)\n",
        "\n",
        "# generate shuffled data\n",
        "data_shuffled = get_dataset(100, shuffle=True)\n"
      ]
    },
    {
      "cell_type": "code",
      "execution_count": null,
      "metadata": {
        "id": "vq-OwdTAKXqc"
      },
      "outputs": [],
      "source": [
        "import matplotlib.pyplot as plt\n",
        "import tensorflow as tf\n",
        "\n",
        "data_unshuffled = get_dataset(100)\n",
        "# print(data_unshuffled)\n",
        "# plt.scatter(data_unshuffled[:, 0], data_unshuffled[:, 1])\n",
        "# plt.xlabel('x')\n",
        "# plt.ylabel('y')\n",
        "# plt.title('Unshuffled Data')\n",
        "# plt.show()\n",
        "\n",
        "# print(data_unshuffled)\n",
        "\n",
        "\n",
        "\n",
        "\n",
        "data_shuffled = get_dataset(100, shuffle=True)\n",
        "# plt.scatter(data_shuffled[:, 0], data_shuffled[:, 1])\n",
        "# plt.xlabel('x')\n",
        "# plt.ylabel('y')\n",
        "# plt.title('Shuffled Data')\n",
        "# plt.show()\n",
        "\n",
        "# print(data_shuffled)\n",
        "\n"
      ]
    },
    {
      "cell_type": "markdown",
      "metadata": {
        "id": "4CLlGSlFNNaY"
      },
      "source": [
        "Question 3"
      ]
    },
    {
      "cell_type": "code",
      "execution_count": null,
      "metadata": {
        "id": "UawOFavuNOiX"
      },
      "outputs": [],
      "source": [
        "def split_dataset(data, train_ratio=0.6, val_ratio=0.2, test_ratio=0.2):\n",
        "    num_samples = data.shape[0]\n",
        "    num_train = int(train_ratio * num_samples)\n",
        "    num_val = int(val_ratio * num_samples)\n",
        "    num_test = num_samples - num_train - num_val\n",
        "    \n",
        "    train_data = data[:num_train, :]\n",
        "    val_data = data[num_train:num_train+num_val, :]\n",
        "    test_data = data[num_train+num_val:, :]\n",
        "    \n",
        "    return train_data, val_data, test_data\n"
      ]
    },
    {
      "cell_type": "markdown",
      "metadata": {
        "id": "2O9FebfCQGCJ"
      },
      "source": [
        "Print # of samples, and and the dimension (2 for x,y)"
      ]
    },
    {
      "cell_type": "code",
      "execution_count": null,
      "metadata": {
        "colab": {
          "base_uri": "https://localhost:8080/"
        },
        "id": "j1GbSE_4PeuY",
        "outputId": "d3ec8a06-79f8-45d6-c325-6f2b22ec540c"
      },
      "outputs": [
        {
          "output_type": "stream",
          "name": "stdout",
          "text": [
            "Train data shape: (70, 2)\n",
            "Validation data shape: (15, 2)\n",
            "Test data shape: (15, 2)\n"
          ]
        }
      ],
      "source": [
        "# generate shuffled data\n",
        "data = get_dataset(100, shuffle=True)\n",
        "\n",
        "# split data into sets\n",
        "train_data, val_data, test_data = split_dataset(data, train_ratio=0.7, val_ratio=0.15, test_ratio=0.15)\n",
        "\n",
        "print(\"Train data shape:\", train_data.shape)\n",
        "print(\"Validation data shape:\", val_data.shape)\n",
        "print(\"Test data shape:\", test_data.shape)"
      ]
    },
    {
      "cell_type": "markdown",
      "metadata": {
        "id": "uIFbvjE0QPbY"
      },
      "source": [
        "Question 4"
      ]
    },
    {
      "cell_type": "code",
      "execution_count": null,
      "metadata": {
        "colab": {
          "base_uri": "https://localhost:8080/"
        },
        "id": "pgx8n_RlQQJp",
        "outputId": "7cf38ae3-4981-4c14-e28c-56b56a9c04a3"
      },
      "outputs": [
        {
          "output_type": "stream",
          "name": "stdout",
          "text": [
            "Original Data:\n",
            "[[-1.          8.3       ]\n",
            " [-0.97979798  8.39910186]\n",
            " [-0.95959596  8.4944272 ]\n",
            " [-0.93939394  8.58603659]\n",
            " [-0.91919192  8.67399139]]\n",
            "Scaled Data:\n",
            "[[0.         0.        ]\n",
            " [0.01010101 0.02477546]\n",
            " [0.02020202 0.0486068 ]\n",
            " [0.03030303 0.07150915]\n",
            " [0.04040404 0.09349785]]\n"
          ]
        }
      ],
      "source": [
        "from sklearn.preprocessing import MinMaxScaler\n",
        "\n",
        "def scale_data(data):\n",
        "    scaler = MinMaxScaler()\n",
        "    \n",
        "    scaler.fit(data)\n",
        "    \n",
        "    scaled_data = scaler.transform(data)\n",
        "    \n",
        "    return scaled_data\n",
        "\n",
        "\n",
        "data = get_dataset(100)\n",
        "\n",
        "scaled_data = scale_data(data)\n",
        "\n",
        "print(\"Original Data:\")\n",
        "print(data[:5])\n",
        "print(\"Scaled Data:\")\n",
        "print(scaled_data[:5])\n"
      ]
    },
    {
      "cell_type": "markdown",
      "metadata": {
        "id": "LvoSszfRQ-3Y"
      },
      "source": [
        "Question 5"
      ]
    },
    {
      "cell_type": "code",
      "execution_count": null,
      "metadata": {
        "id": "-6mFoQvMRnkU"
      },
      "outputs": [],
      "source": [
        "from sklearn.metrics import mean_absolute_error, mean_squared_error, r2_score\n",
        "\n",
        "def evaluate_predictions(y_true, y_pred):\n",
        "    mae = mean_absolute_error(y_true, y_pred)\n",
        "    \n",
        "    mse = mean_squared_error(y_true, y_pred)\n",
        "    \n",
        "    rmse = np.sqrt(mse)\n",
        "    \n",
        "    r2 = r2_score(y_true, y_pred)\n",
        "    \n",
        "    return mae, mse, rmse, r2\n"
      ]
    },
    {
      "cell_type": "code",
      "execution_count": null,
      "metadata": {
        "id": "Xe86NRTctN4I"
      },
      "outputs": [],
      "source": [
        "import tensorflow as tf\n",
        "\n",
        "def train_model(train_data, val_data, num_epochs=100, batch_size=32):\n",
        "    # create model\n",
        "    model = tf.keras.Sequential([\n",
        "        tf.keras.layers.Dense(64, activation='relu', input_shape=(1,)),\n",
        "        tf.keras.layers.Dense(64, activation='relu'),\n",
        "        tf.keras.layers.Dense(1)\n",
        "    ])\n",
        "    \n",
        "    model.compile(optimizer='adam', loss='mse')\n",
        "    \n",
        "    # train model\n",
        "    model.fit(train_data[:, :-1], train_data[:, -1], epochs=num_epochs, batch_size=batch_size, validation_data=(val_data[:, :-1], val_data[:, -1]), verbose=0)\n",
        "    \n",
        "    return model\n"
      ]
    },
    {
      "cell_type": "code",
      "execution_count": null,
      "metadata": {
        "colab": {
          "base_uri": "https://localhost:8080/"
        },
        "id": "udcAemLxSN6a",
        "outputId": "9de56663-8e41-4a27-da5a-72d8f0a30ebf"
      },
      "outputs": [
        {
          "output_type": "stream",
          "name": "stdout",
          "text": [
            "1/1 [==============================] - 0s 70ms/step\n",
            "MAE: 0.3374527563325737\n",
            "MSE: 0.12192117968586036\n",
            "RMSE: 0.3491721347499831\n",
            "R2 Score: -0.3204245242705368\n"
          ]
        }
      ],
      "source": [
        "data = get_dataset(100)\n",
        "\n",
        "# split data into sets\n",
        "train_data, val_data, test_data = split_dataset(data, train_ratio=0.6, val_ratio=0.2, test_ratio=0.2)\n",
        "\n",
        "scaled_train_data = scale_data(train_data)\n",
        "scaled_val_data = scale_data(val_data)\n",
        "scaled_test_data = scale_data(test_data)\n",
        "\n",
        "model = train_model(scaled_train_data, scaled_val_data)\n",
        "\n",
        "x_test = scaled_test_data[:, :-1]\n",
        "y_test_true = scaled_test_data[:, -1]\n",
        "y_test_pred = model.predict(x_test).flatten()\n",
        "\n",
        "mae, mse, rmse, r2 = evaluate_predictions(y_test_true, y_test_pred)\n",
        "print(\"MAE:\", mae)\n",
        "print(\"MSE:\", mse)\n",
        "print(\"RMSE:\", rmse)\n",
        "print(\"R2 Score:\", r2)\n"
      ]
    },
    {
      "cell_type": "markdown",
      "metadata": {
        "id": "t6AcDjEft4U_"
      },
      "source": [
        "PART 2"
      ]
    },
    {
      "cell_type": "markdown",
      "metadata": {
        "id": "0e6XkLRkIlUK"
      },
      "source": [
        "CASE 1 (SCALED,SHUFFLED)"
      ]
    },
    {
      "cell_type": "code",
      "execution_count": null,
      "metadata": {
        "colab": {
          "base_uri": "https://localhost:8080/",
          "height": 384
        },
        "id": "aXC5EWmTt5ln",
        "outputId": "70884ebd-d7ed-4b8d-d385-34adf35c569a"
      },
      "outputs": [
        {
          "output_type": "stream",
          "name": "stdout",
          "text": [
            "469/469 [==============================] - 1s 2ms/step\n"
          ]
        },
        {
          "output_type": "display_data",
          "data": {
            "text/plain": [
              "<Figure size 432x288 with 1 Axes>"
            ],
            "image/png": "[encoded data removed]"
          },
          "metadata": {
            "needs_background": "light"
          }
        },
        {
          "output_type": "stream",
          "name": "stdout",
          "text": [
            "MAE: 0.0137772365\n",
            "MSE: 0.0002683886\n",
            "RMSE: 0.0163825687\n",
            "R2 Score: 0.9924341256\n"
          ]
        }
      ],
      "source": [
        "import numpy as np\n",
        "import matplotlib.pyplot as plt\n",
        "from sklearn.model_selection import train_test_split\n",
        "from sklearn.preprocessing import MinMaxScaler\n",
        "from sklearn.metrics import mean_absolute_error, mean_squared_error, r2_score\n",
        "import tensorflow as tf\n",
        "\n",
        "np.random.seed(44)\n",
        "tf.random.set_seed(44)\n",
        "\n",
        "def get_dataset(num_samples, shuffle=True):\n",
        "    x = np.linspace(-1, 1, num_samples).reshape(num_samples, 1)\n",
        "    y = 0.2 * x**4 + 2 * x**3 + 0.1 * x**2 + 10\n",
        "    data = np.hstack((x, y))\n",
        "    if shuffle:\n",
        "        np.random.shuffle(data)\n",
        "    return data\n",
        "\n",
        "def split_dataset(data, train_ratio=0.3, val_ratio=0.2, test_ratio=0.5):\n",
        "    x = data[:, :-1]\n",
        "    y = data[:, -1]\n",
        "    x_train, x_test, y_train, y_test = train_test_split(x, y, test_size=test_ratio, shuffle=True)\n",
        "    x_train, x_val, y_train, y_val = train_test_split(x_train, y_train, test_size=val_ratio/(train_ratio+val_ratio), shuffle=True)\n",
        "    train_data = np.hstack((x_train, y_train.reshape(-1, 1)))\n",
        "    val_data = np.hstack((x_val, y_val.reshape(-1, 1)))\n",
        "    test_data = np.hstack((x_test, y_test.reshape(-1, 1)))\n",
        "    return train_data, val_data, test_data\n",
        "\n",
        "def scale_data(data):\n",
        "    scaler = MinMaxScaler()\n",
        "    scaler.fit(data)\n",
        "    scaled_data = scaler.transform(data)\n",
        "    return scaled_data\n",
        "\n",
        "def train_model(scaled_train_data, scaled_val_data, num_epochs=20, batch_size=12):\n",
        "    model = tf.keras.Sequential([\n",
        "        tf.keras.layers.Dense(12, activation='relu', input_shape=(1,)),\n",
        "        tf.keras.layers.Dense(8, activation='relu'),\n",
        "        tf.keras.layers.Dense(4, activation='relu'),\n",
        "        tf.keras.layers.Dense(1)\n",
        "    ])\n",
        "    model.compile(optimizer='adam', loss='mse')\n",
        "    model.fit(scaled_train_data[:, :-1], scaled_train_data[:, -1], epochs=num_epochs, batch_size=batch_size, validation_data=(scaled_val_data[:, :-1], scaled_val_data[:, -1]), verbose=0)\n",
        "    return model\n",
        "\n",
        "def evaluate_predictions(y_true, y_pred):\n",
        "    mae = mean_absolute_error(y_true, y_pred)\n",
        "    mse = mean_squared_error(y_true, y_pred)\n",
        "    rmse = np.sqrt(mse)\n",
        "    r2 = r2_score(y_true, y_pred)\n",
        "    return mae, mse, rmse, r2\n",
        "\n",
        "data = get_dataset(30000, shuffle=True)\n",
        "\n",
        "train_data, val_data, test_data = split_dataset(data, train_ratio=0.3, val_ratio=0.2, test_ratio=0.5)\n",
        "\n",
        "scaled_train_data = scale_data(train_data)\n",
        "scaled_val_data = scale_data(val_data)\n",
        "scaled_test_data = scale_data(test_data)\n",
        "\n",
        "model_relu = train_model(scaled_train_data, scaled_val_data, num_epochs=20, batch_size=12)\n",
        "\n",
        "y_true = scaled_test_data[:, -1]\n",
        "y_pred = model_relu.predict(scaled_test_data[:, :-1]).reshape(-1)\n",
        "mae, mse, rmse, r2 = evaluate_predictions(y_true, y_pred)\n",
        "\n",
        "plt.scatter(scaled_test_data[:, 0], y_true, label='Actual')\n",
        "plt.scatter(scaled_test_data[:, 0], y_pred, label='Predicted')\n",
        "plt.xlabel('x Test')\n",
        "plt.ylabel('y')\n",
        "plt.title('Actual vs. Predicted Test Data (1)')\n",
        "plt.legend()\n",
        "plt.show()\n",
        "\n",
        "\n",
        "\n",
        "print('MAE: {:.10f}'.format(mae))\n",
        "print('MSE: {:.10f}'.format(mse))\n",
        "print('RMSE: {:.10f}'.format(rmse))\n",
        "print('R2 Score: {:.10f}'.format(r2))\n",
        "\n"
      ]
    },
    {
      "cell_type": "markdown",
      "metadata": {
        "id": "CtWehw8WP2eU"
      },
      "source": [
        "CASE 1(NONSCALED,SHUFFLED)"
      ]
    },
    {
      "cell_type": "code",
      "execution_count": null,
      "metadata": {
        "colab": {
          "base_uri": "https://localhost:8080/",
          "height": 384
        },
        "id": "Icp_VFcIO8fo",
        "outputId": "93f7b7d8-4a73-4111-f272-85881ec0dd99"
      },
      "outputs": [
        {
          "output_type": "stream",
          "name": "stdout",
          "text": [
            "469/469 [==============================] - 1s 1ms/step\n"
          ]
        },
        {
          "output_type": "display_data",
          "data": {
            "text/plain": [
              "<Figure size 432x288 with 1 Axes>"
            ],
            "image/png": "[encoded data removed]"
          },
          "metadata": {
            "needs_background": "light"
          }
        },
        {
          "output_type": "stream",
          "name": "stdout",
          "text": [
            "MAE: 0.0186518426\n",
            "MSE: 0.0004976142\n",
            "RMSE: 0.0223072672\n",
            "R2 Score: 0.9991230613\n"
          ]
        }
      ],
      "source": [
        "import numpy as np\n",
        "import matplotlib.pyplot as plt\n",
        "from sklearn.model_selection import train_test_split\n",
        "from sklearn.metrics import mean_absolute_error, mean_squared_error, r2_score\n",
        "import tensorflow as tf\n",
        "\n",
        "np.random.seed(44)\n",
        "tf.random.set_seed(44)\n",
        "\n",
        "def get_dataset(num_samples, shuffle=True):\n",
        "    x = np.linspace(-1, 1, num_samples).reshape(num_samples, 1)\n",
        "    y = 0.2 * x**4 + 2 * x**3 + 0.1 * x**2 + 10\n",
        "    data = np.hstack((x, y))\n",
        "    if shuffle:\n",
        "        np.random.shuffle(data)\n",
        "    return data\n",
        "\n",
        "def split_dataset(data, train_ratio=0.3, val_ratio=0.2, test_ratio=0.5):\n",
        "    x = data[:, :-1]\n",
        "    y = data[:, -1]\n",
        "    x_train, x_test, y_train, y_test = train_test_split(x, y, test_size=test_ratio, shuffle=True)\n",
        "    x_train, x_val, y_train, y_val = train_test_split(x_train, y_train, test_size=val_ratio/(train_ratio+val_ratio), shuffle=True)\n",
        "    train_data = np.hstack((x_train, y_train.reshape(-1, 1)))\n",
        "    val_data = np.hstack((x_val, y_val.reshape(-1, 1)))\n",
        "    test_data = np.hstack((x_test, y_test.reshape(-1, 1)))\n",
        "    return train_data, val_data, test_data\n",
        "\n",
        "def train_model(train_data, val_data, num_epochs=20, batch_size=12):\n",
        "    model = tf.keras.Sequential([\n",
        "        tf.keras.layers.Dense(12, activation='relu', input_shape=(1,)),\n",
        "        tf.keras.layers.Dense(8, activation='relu'),\n",
        "        tf.keras.layers.Dense(4, activation='relu'),\n",
        "        tf.keras.layers.Dense(1)\n",
        "    ])\n",
        "    model.compile(optimizer='adam', loss='mse')\n",
        "    model.fit(train_data[:, :-1], train_data[:, -1], epochs=num_epochs, batch_size=batch_size, validation_data=(val_data[:, :-1], val_data[:, -1]), verbose=0)\n",
        "    return model\n",
        "\n",
        "def evaluate_predictions(y_true, y_pred):\n",
        "    mae = mean_absolute_error(y_true, y_pred)\n",
        "    mse = mean_squared_error(y_true, y_pred)\n",
        "    rmse = np.sqrt(mse)\n",
        "    r2 = r2_score(y_true, y_pred)\n",
        "    return mae, mse, rmse, r2\n",
        "\n",
        "data = get_dataset(30000, shuffle=True)\n",
        "\n",
        "train_data, val_data, test_data = split_dataset(data, train_ratio=0.3, val_ratio=0.2, test_ratio=0.5)\n",
        "\n",
        "model_relu = train_model(train_data, val_data, num_epochs=20, batch_size=12)\n",
        "\n",
        "y_true = test_data[:, -1]\n",
        "y_pred = model_relu.predict(test_data[:, :-1]).reshape(-1)\n",
        "mae, mse, rmse, r2 = evaluate_predictions(y_true, y_pred)\n",
        "\n",
        "plt.scatter(test_data[:, 0], y_true, label='Actual')\n",
        "plt.scatter(test_data[:, 0], y_pred, label='Predicted')\n",
        "plt.xlabel('x Test')\n",
        "plt.ylabel('y')\n",
        "plt.title('Actual vs. Predicted Test Data (1)')\n",
        "plt.legend()\n",
        "plt.show()\n",
        "\n",
        "print('MAE: {:.10f}'.format(mae))\n",
        "print('MSE: {:.10f}'.format(mse))\n",
        "print('RMSE: {:.10f}'.format(rmse))\n",
        "print('R2 Score: {:.10f}'.format(r2))\n"
      ]
    },
    {
      "cell_type": "markdown",
      "metadata": {
        "id": "55wFy6GSKZmv"
      },
      "source": [
        "CASE 1 UNSHUFFLED"
      ]
    },
    {
      "cell_type": "code",
      "execution_count": null,
      "metadata": {
        "colab": {
          "base_uri": "https://localhost:8080/",
          "height": 384
        },
        "id": "3DFm5B6SKWK1",
        "outputId": "54ce360d-134f-4c5a-c93a-9993031e5221"
      },
      "outputs": [
        {
          "output_type": "stream",
          "name": "stdout",
          "text": [
            "469/469 [==============================] - 1s 2ms/step\n"
          ]
        },
        {
          "output_type": "display_data",
          "data": {
            "text/plain": [
              "<Figure size 432x288 with 1 Axes>"
            ],
            "image/png": "[encoded data removed]"
          },
          "metadata": {
            "needs_background": "light"
          }
        },
        {
          "output_type": "stream",
          "name": "stdout",
          "text": [
            "MAE: 0.0140296302\n",
            "MSE: 0.0003671667\n",
            "RMSE: 0.0191615933\n",
            "R2 Score: 0.9993529472\n"
          ]
        }
      ],
      "source": [
        "import numpy as np\n",
        "import matplotlib.pyplot as plt\n",
        "from sklearn.model_selection import train_test_split\n",
        "from sklearn.metrics import mean_absolute_error, mean_squared_error, r2_score\n",
        "import tensorflow as tf\n",
        "\n",
        "np.random.seed(44)\n",
        "tf.random.set_seed(44)\n",
        "\n",
        "def get_dataset(num_samples, shuffle=False):\n",
        "    x = np.linspace(-1, 1, num_samples).reshape(num_samples, 1)\n",
        "    y = 0.2 * x**4 + 2 * x**3 + 0.1 * x**2 + 10\n",
        "    data = np.hstack((x, y))\n",
        "    if shuffle:\n",
        "        np.random.shuffle(data)\n",
        "    return data\n",
        "\n",
        "def split_dataset(data, train_ratio=0.3, val_ratio=0.2, test_ratio=0.5):\n",
        "    x = data[:, :-1]\n",
        "    y = data[:, -1]\n",
        "    x_train, x_test, y_train, y_test = train_test_split(x, y, test_size=test_ratio, shuffle=True)\n",
        "    x_train, x_val, y_train, y_val = train_test_split(x_train, y_train, test_size=val_ratio/(train_ratio+val_ratio), shuffle=True)\n",
        "    train_data = np.hstack((x_train, y_train.reshape(-1, 1)))\n",
        "    val_data = np.hstack((x_val, y_val.reshape(-1, 1)))\n",
        "    test_data = np.hstack((x_test, y_test.reshape(-1, 1)))\n",
        "    return train_data, val_data, test_data\n",
        "\n",
        "def train_model(train_data, val_data, num_epochs=20, batch_size=12):\n",
        "    model = tf.keras.Sequential([\n",
        "        tf.keras.layers.Dense(12, activation='relu', input_shape=(1,)),\n",
        "        tf.keras.layers.Dense(8, activation='relu'),\n",
        "        tf.keras.layers.Dense(4, activation='relu'),\n",
        "        tf.keras.layers.Dense(1)\n",
        "    ])\n",
        "    model.compile(optimizer='adam', loss='mse')\n",
        "    model.fit(train_data[:, :-1], train_data[:, -1], epochs=num_epochs, batch_size=batch_size, validation_data=(val_data[:, :-1], val_data[:, -1]), verbose=0)\n",
        "    return model\n",
        "\n",
        "def evaluate_predictions(y_true, y_pred):\n",
        "    mae = mean_absolute_error(y_true, y_pred)\n",
        "    mse = mean_squared_error(y_true, y_pred)\n",
        "    rmse = np.sqrt(mse)\n",
        "    r2 = r2_score(y_true, y_pred)\n",
        "    return mae, mse, rmse, r2\n",
        "\n",
        "data = get_dataset(30000, shuffle=True)\n",
        "\n",
        "train_data, val_data, test_data = split_dataset(data, train_ratio=0.3, val_ratio=0.2, test_ratio=0.5)\n",
        "\n",
        "model_relu = train_model(train_data, val_data, num_epochs=20, batch_size=12)\n",
        "\n",
        "y_true = test_data[:, -1]\n",
        "y_pred = model_relu.predict(test_data[:, :-1]).reshape(-1)\n",
        "mae, mse, rmse, r2 = evaluate_predictions(y_true, y_pred)\n",
        "\n",
        "plt.scatter(test_data[:, 0], y_true, label='Actual')\n",
        "plt.scatter(test_data[:, 0], y_pred, label='Predicted')\n",
        "plt.xlabel('x Test')\n",
        "plt.ylabel('y')\n",
        "plt.title('Actual vs. Predicted Test Data (1)')\n",
        "plt.legend()\n",
        "plt.show()\n",
        "\n",
        "print('MAE: {:.10f}'.format(mae))\n",
        "print('MSE: {:.10f}'.format(mse))\n",
        "print('RMSE: {:.10f}'.format(rmse))\n",
        "print('R2 Score: {:.10f}'.format(r2))\n"
      ]
    },
    {
      "cell_type": "markdown",
      "metadata": {
        "id": "3iczWyBO-T35"
      },
      "source": [
        "CASE 2"
      ]
    },
    {
      "cell_type": "code",
      "execution_count": null,
      "metadata": {
        "colab": {
          "base_uri": "https://localhost:8080/",
          "height": 384
        },
        "id": "fBS8XmrT-VPF",
        "outputId": "1c366434-0eda-4e37-b244-6a1d01790390"
      },
      "outputs": [
        {
          "output_type": "stream",
          "name": "stdout",
          "text": [
            "469/469 [==============================] - 1s 2ms/step\n",
            "MAE: 0.0145177418\n",
            "MSE: 0.0004198823\n",
            "RMSE: 0.0204910297\n",
            "R2 Score: 0.9992600471\n"
          ]
        },
        {
          "output_type": "display_data",
          "data": {
            "text/plain": [
              "<Figure size 432x288 with 1 Axes>"
            ],
            "image/png": "[encoded data removed]"
          },
          "metadata": {
            "needs_background": "light"
          }
        }
      ],
      "source": [
        "import numpy as np\n",
        "import matplotlib.pyplot as plt\n",
        "from sklearn.model_selection import train_test_split\n",
        "from sklearn.metrics import mean_absolute_error, mean_squared_error, r2_score\n",
        "import tensorflow as tf\n",
        "\n",
        "np.random.seed(44)\n",
        "tf.random.set_seed(44)\n",
        "\n",
        "def get_dataset(num_samples, shuffle=True):\n",
        "    x = np.linspace(-1, 1, num_samples).reshape(num_samples, 1)\n",
        "    y = 0.2 * x**4 + 2 * x**3 + 0.1 * x**2 + 10\n",
        "    data = np.hstack((x, y))\n",
        "    if shuffle:\n",
        "        np.random.shuffle(data)\n",
        "    return data\n",
        "\n",
        "def split_dataset(data, train_ratio=0.3, val_ratio=0.2, test_ratio=0.5):\n",
        "    x = data[:, :-1]\n",
        "    y = data[:, -1]\n",
        "    x_train, x_test, y_train, y_test = train_test_split(x, y, test_size=test_ratio, shuffle=True)\n",
        "    x_train, x_val, y_train, y_val = train_test_split(x_train, y_train, test_size=val_ratio/(train_ratio+val_ratio), shuffle=True)\n",
        "    train_data = np.hstack((x_train, y_train.reshape(-1, 1)))\n",
        "    val_data = np.hstack((x_val, y_val.reshape(-1, 1)))\n",
        "    test_data = np.hstack((x_test, y_test.reshape(-1, 1)))\n",
        "    return train_data, val_data, test_data\n",
        "\n",
        "def train_model(train_data, val_data, num_epochs=20, batch_size=12):\n",
        "    model = tf.keras.Sequential([\n",
        "        tf.keras.layers.Dense(24, activation='relu', input_shape=(1,)),\n",
        "        tf.keras.layers.Dense(1)\n",
        "    ])\n",
        "    model.compile(optimizer='adam', loss='mse')\n",
        "    model.fit(train_data[:, :-1], train_data[:, -1], epochs=num_epochs, batch_size=batch_size, validation_data=(val_data[:, :-1], val_data[:, -1]), verbose=0)\n",
        "    return model\n",
        "\n",
        "def evaluate_predictions(y_true, y_pred):\n",
        "    mae = mean_absolute_error(y_true, y_pred)\n",
        "    mse = mean_squared_error(y_true, y_pred)\n",
        "    rmse = np.sqrt(mse)\n",
        "    r2 = r2_score(y_true, y_pred)\n",
        "    return mae, mse, rmse, r2\n",
        "\n",
        "data = get_dataset(30000, shuffle=True)\n",
        "\n",
        "train_data, val_data, test_data = split_dataset(data, train_ratio=0.3, val_ratio=0.2, test_ratio=0.5)\n",
        "\n",
        "model_relu = train_model(train_data, val_data, num_epochs=20, batch_size=12)\n",
        "\n",
        "y_true = test_data[:, -1]\n",
        "y_pred = model_relu.predict(test_data[:, :-1]).reshape(-1)\n",
        "mae, mse, rmse, r2 = evaluate_predictions(y_true, y_pred)\n",
        "\n",
        "# plot actual vs. predicted test data\n",
        "plt.scatter(test_data[:, 0], y_true, label='Actual')\n",
        "plt.scatter(test_data[:, 0], y_pred, label='Predicted')\n",
        "plt.xlabel('x Test')\n",
        "plt.ylabel('y')\n",
        "plt.title('Actual vs. Predicted Test Data (2)')\n",
        "plt.legend()\n",
        "\n",
        "print('MAE: {:.10f}'.format(mae))\n",
        "print('MSE: {:.10f}'.format(mse))\n",
        "print('RMSE: {:.10f}'.format(rmse))\n",
        "print('R2 Score: {:.10f}'.format(r2))\n"
      ]
    },
    {
      "cell_type": "markdown",
      "metadata": {
        "id": "kPqjXLVJOCPj"
      },
      "source": [
        "CASE 2 UNSHUFFLED"
      ]
    },
    {
      "cell_type": "code",
      "execution_count": null,
      "metadata": {
        "colab": {
          "base_uri": "https://localhost:8080/",
          "height": 384
        },
        "id": "rtYWZJ49OD-C",
        "outputId": "883c3e1a-9ddc-419c-e1fe-2f2ec3687240"
      },
      "outputs": [
        {
          "output_type": "stream",
          "name": "stdout",
          "text": [
            "469/469 [==============================] - 1s 2ms/step\n",
            "MAE: 0.0548667841\n",
            "MSE: 0.0041220538\n",
            "RMSE: 0.0642032223\n",
            "R2 Score: 0.9927357608\n"
          ]
        },
        {
          "output_type": "display_data",
          "data": {
            "text/plain": [
              "<Figure size 432x288 with 1 Axes>"
            ],
            "image/png": "[encoded data removed]"
          },
          "metadata": {
            "needs_background": "light"
          }
        }
      ],
      "source": [
        "import numpy as np\n",
        "import matplotlib.pyplot as plt\n",
        "from sklearn.model_selection import train_test_split\n",
        "from sklearn.metrics import mean_absolute_error, mean_squared_error, r2_score\n",
        "import tensorflow as tf\n",
        "\n",
        "np.random.seed(44)\n",
        "tf.random.set_seed(44)\n",
        "\n",
        "def get_dataset(num_samples, shuffle=False):\n",
        "    x = np.linspace(-1, 1, num_samples).reshape(num_samples, 1)\n",
        "    y = 0.2 * x**4 + 2 * x**3 + 0.1 * x**2 + 10\n",
        "    data = np.hstack((x, y))\n",
        "    if shuffle:\n",
        "        np.random.shuffle(data)\n",
        "    return data\n",
        "\n",
        "def split_dataset(data, train_ratio=0.3, val_ratio=0.2, test_ratio=0.5):\n",
        "    x = data[:, :-1]\n",
        "    y = data[:, -1]\n",
        "    x_train, x_test, y_train, y_test = train_test_split(x, y, test_size=test_ratio, shuffle=True)\n",
        "    x_train, x_val, y_train, y_val = train_test_split(x_train, y_train, test_size=val_ratio/(train_ratio+val_ratio), shuffle=True)\n",
        "    train_data = np.hstack((x_train, y_train.reshape(-1, 1)))\n",
        "    val_data = np.hstack((x_val, y_val.reshape(-1, 1)))\n",
        "    test_data = np.hstack((x_test, y_test.reshape(-1, 1)))\n",
        "    return train_data, val_data, test_data\n",
        "\n",
        "def train_model(train_data, val_data, num_epochs=20, batch_size=12):\n",
        "    model = tf.keras.Sequential([\n",
        "        tf.keras.layers.Dense(24, activation='relu', input_shape=(1,)),\n",
        "        tf.keras.layers.Dense(1)\n",
        "    ])\n",
        "    model.compile(optimizer='adam', loss='mse')\n",
        "    model.fit(train_data[:, :-1], train_data[:, -1], epochs=num_epochs, batch_size=batch_size, validation_data=(val_data[:, :-1], val_data[:, -1]), verbose=0)\n",
        "    return model\n",
        "\n",
        "def evaluate_predictions(y_true, y_pred):\n",
        "    mae = mean_absolute_error(y_true, y_pred)\n",
        "    mse = mean_squared_error(y_true, y_pred)\n",
        "    rmse = np.sqrt(mse)\n",
        "    r2 = r2_score(y_true, y_pred)\n",
        "    return mae, mse, rmse, r2\n",
        "\n",
        "data = get_dataset(30000, shuffle=True)\n",
        "\n",
        "train_data, val_data, test_data = split_dataset(data, train_ratio=0.3, val_ratio=0.2, test_ratio=0.5)\n",
        "\n",
        "model_relu = train_model(train_data, val_data, num_epochs=20, batch_size=12)\n",
        "\n",
        "y_true = test_data[:, -1]\n",
        "y_pred = model_relu.predict(test_data[:, :-1]).reshape(-1)\n",
        "mae, mse, rmse, r2 = evaluate_predictions(y_true, y_pred)\n",
        "\n",
        "# plot actual vs. predicted test data\n",
        "plt.scatter(test_data[:, 0], y_true, label='Actual')\n",
        "plt.scatter(test_data[:, 0], y_pred, label='Predicted')\n",
        "plt.xlabel('x Test')\n",
        "plt.ylabel('y')\n",
        "plt.title('Actual vs. Predicted Test Data (2)')\n",
        "plt.legend()\n",
        "\n",
        "# print evaluation metrics\n",
        "print('MAE: {:.10f}'.format(mae))\n",
        "print('MSE: {:.10f}'.format(mse))\n",
        "print('RMSE: {:.10f}'.format(rmse))\n",
        "print('R2 Score: {:.10f}'.format(r2))\n"
      ]
    },
    {
      "cell_type": "markdown",
      "metadata": {
        "id": "reN9TX9zAiP0"
      },
      "source": [
        "CASE 3"
      ]
    },
    {
      "cell_type": "code",
      "execution_count": null,
      "metadata": {
        "colab": {
          "base_uri": "https://localhost:8080/",
          "height": 384
        },
        "id": "CqgE94VXAjH9",
        "outputId": "26911df5-8c1a-44a2-ffab-25303daa845e"
      },
      "outputs": [
        {
          "output_type": "stream",
          "name": "stdout",
          "text": [
            "469/469 [==============================] - 1s 1ms/step\n"
          ]
        },
        {
          "output_type": "display_data",
          "data": {
            "text/plain": [
              "<Figure size 432x288 with 1 Axes>"
            ],
            "image/png": "[encoded data removed]"
          },
          "metadata": {
            "needs_background": "light"
          }
        },
        {
          "output_type": "stream",
          "name": "stdout",
          "text": [
            "MAE: 0.0113066825\n",
            "MSE: 0.0002245798\n",
            "RMSE: 0.0149859857\n",
            "R2 Score: 0.9996042261\n"
          ]
        }
      ],
      "source": [
        "import numpy as np\n",
        "import matplotlib.pyplot as plt\n",
        "from sklearn.model_selection import train_test_split\n",
        "from sklearn.metrics import mean_absolute_error, mean_squared_error, r2_score\n",
        "import tensorflow as tf\n",
        "\n",
        "np.random.seed(44)\n",
        "tf.random.set_seed(44)\n",
        "\n",
        "def get_dataset(num_samples, shuffle=True):\n",
        "    x = np.linspace(-1, 1, num_samples).reshape(num_samples, 1)\n",
        "    y = 0.2 * x**4 + 2 * x**3 + 0.1 * x**2 + 10\n",
        "    data = np.hstack((x, y))\n",
        "    if shuffle:\n",
        "        np.random.shuffle(data)\n",
        "    return data\n",
        "\n",
        "def split_dataset(data, train_ratio=0.3, val_ratio=0.2, test_ratio=0.5):\n",
        "    x = data[:, :-1]\n",
        "    y = data[:, -1]\n",
        "    x_train, x_test, y_train, y_test = train_test_split(x, y, test_size=test_ratio, shuffle=True)\n",
        "    x_train, x_val, y_train, y_val = train_test_split(x_train, y_train, test_size=val_ratio/(train_ratio+val_ratio), shuffle=True)\n",
        "    train_data = np.hstack((x_train, y_train.reshape(-1, 1)))\n",
        "    val_data = np.hstack((x_val, y_val.reshape(-1, 1)))\n",
        "    test_data = np.hstack((x_test, y_test.reshape(-1, 1)))\n",
        "    return train_data, val_data, test_data\n",
        "\n",
        "def train_model(train_data, val_data, num_epochs=20, batch_size=12, activation='relu'):\n",
        "    model = tf.keras.Sequential([\n",
        "        tf.keras.layers.Dense(12, activation=activation, input_shape=(1,)),\n",
        "        tf.keras.layers.Dense(8, activation=activation),\n",
        "        tf.keras.layers.Dense(4, activation=activation),\n",
        "        tf.keras.layers.Dense(1)\n",
        "    ])\n",
        "    model.compile(optimizer='adam', loss='mse')\n",
        "    model.fit(train_data[:, :-1], train_data[:, -1], epochs=num_epochs, batch_size=batch_size, validation_data=(val_data[:, :-1], val_data[:, -1]), verbose=0)\n",
        "    return model\n",
        "\n",
        "def evaluate_predictions(y_true, y_pred):\n",
        "    mae = mean_absolute_error(y_true, y_pred)\n",
        "    mse = mean_squared_error(y_true, y_pred)\n",
        "    rmse = np.sqrt(mse)\n",
        "    r2 = r2_score(y_true, y_pred)\n",
        "    return mae, mse, rmse, r2\n",
        "\n",
        "data = get_dataset(30000, shuffle=True)\n",
        "# just in case\n",
        "train_data, val_data, test_data = split_dataset(data, train_ratio=0.3, val_ratio=0.2, test_ratio=0.5)\n",
        "\n",
        "model_tanh = train_model(train_data, val_data, num_epochs=20, batch_size=12, activation='tanh')\n",
        "\n",
        "y_true = test_data[:, -1]\n",
        "y_pred = model_tanh.predict(test_data[:, :-1]).reshape(-1)\n",
        "mae, mse, rmse, r2 = evaluate_predictions(y_true, y_pred)\n",
        "\n",
        "plt.scatter(test_data[:, 0], y_true, label='Actual')\n",
        "plt.scatter(test_data[:, 0], y_pred, label='Predicted')\n",
        "plt.xlabel('x Test')\n",
        "plt.ylabel('y')\n",
        "plt.title('Actual vs. Predicted Test Data (3)')\n",
        "plt.legend()\n",
        "plt.show()\n",
        "\n",
        "print('MAE: {:.10f}'.format(mae))\n",
        "print('MSE: {:.10f}'.format(mse))\n",
        "print('RMSE: {:.10f}'.format(rmse))\n",
        "print('R2 Score: {:.10f}'.format(r2))\n"
      ]
    },
    {
      "cell_type": "markdown",
      "metadata": {
        "id": "t5RRNNGNPkvu"
      },
      "source": [
        "CASE 3 UNSHUFFLED"
      ]
    },
    {
      "cell_type": "code",
      "execution_count": null,
      "metadata": {
        "colab": {
          "base_uri": "https://localhost:8080/",
          "height": 384
        },
        "id": "S9wuPZd_PkeT",
        "outputId": "9ef8037e-c78c-4cd6-b822-68938906a501"
      },
      "outputs": [
        {
          "output_type": "stream",
          "name": "stdout",
          "text": [
            "469/469 [==============================] - 1s 1ms/step\n"
          ]
        },
        {
          "output_type": "display_data",
          "data": {
            "text/plain": [
              "<Figure size 432x288 with 1 Axes>"
            ],
            "image/png": "[encoded data removed]"
          },
          "metadata": {
            "needs_background": "light"
          }
        },
        {
          "output_type": "stream",
          "name": "stdout",
          "text": [
            "MAE: 0.0049718048\n",
            "MSE: 0.0000704512\n",
            "RMSE: 0.0083935185\n",
            "R2 Score: 0.9998758449\n"
          ]
        }
      ],
      "source": [
        "import numpy as np\n",
        "import matplotlib.pyplot as plt\n",
        "from sklearn.model_selection import train_test_split\n",
        "from sklearn.metrics import mean_absolute_error, mean_squared_error, r2_score\n",
        "import tensorflow as tf\n",
        "\n",
        "np.random.seed(44)\n",
        "tf.random.set_seed(44)\n",
        "\n",
        "def get_dataset(num_samples, shuffle=False):\n",
        "    x = np.linspace(-1, 1, num_samples).reshape(num_samples, 1)\n",
        "    y = 0.2 * x**4 + 2 * x**3 + 0.1 * x**2 + 10\n",
        "    data = np.hstack((x, y))\n",
        "    if shuffle:\n",
        "        np.random.shuffle(data)\n",
        "    return data\n",
        "\n",
        "def split_dataset(data, train_ratio=0.3, val_ratio=0.2, test_ratio=0.5):\n",
        "    x = data[:, :-1]\n",
        "    y = data[:, -1]\n",
        "    x_train, x_test, y_train, y_test = train_test_split(x, y, test_size=test_ratio, shuffle=True)\n",
        "    x_train, x_val, y_train, y_val = train_test_split(x_train, y_train, test_size=val_ratio/(train_ratio+val_ratio), shuffle=True)\n",
        "    train_data = np.hstack((x_train, y_train.reshape(-1, 1)))\n",
        "    val_data = np.hstack((x_val, y_val.reshape(-1, 1)))\n",
        "    test_data = np.hstack((x_test, y_test.reshape(-1, 1)))\n",
        "    return train_data, val_data, test_data\n",
        "\n",
        "def train_model(train_data, val_data, num_epochs=20, batch_size=12, activation='relu'):\n",
        "    model = tf.keras.Sequential([\n",
        "        tf.keras.layers.Dense(12, activation=activation, input_shape=(1,)),\n",
        "        tf.keras.layers.Dense(8, activation=activation),\n",
        "        tf.keras.layers.Dense(4, activation=activation),\n",
        "        tf.keras.layers.Dense(1)\n",
        "    ])\n",
        "    model.compile(optimizer='adam', loss='mse')\n",
        "    model.fit(train_data[:, :-1], train_data[:, -1], epochs=num_epochs, batch_size=batch_size, validation_data=(val_data[:, :-1], val_data[:, -1]), verbose=0)\n",
        "    return model\n",
        "\n",
        "def evaluate_predictions(y_true, y_pred):\n",
        "    mae = mean_absolute_error(y_true, y_pred)\n",
        "    mse = mean_squared_error(y_true, y_pred)\n",
        "    rmse = np.sqrt(mse)\n",
        "    r2 = r2_score(y_true, y_pred)\n",
        "    return mae, mse, rmse, r2\n",
        "\n",
        "data = get_dataset(30000, shuffle=True)\n",
        "# just in case\n",
        "train_data, val_data, test_data = split_dataset(data, train_ratio=0.3, val_ratio=0.2, test_ratio=0.5)\n",
        "\n",
        "model_tanh = train_model(train_data, val_data, num_epochs=20, batch_size=12, activation='tanh')\n",
        "\n",
        "y_true = test_data[:, -1]\n",
        "y_pred = model_tanh.predict(test_data[:, :-1]).reshape(-1)\n",
        "mae, mse, rmse, r2 = evaluate_predictions(y_true, y_pred)\n",
        "\n",
        "plt.scatter(test_data[:, 0], y_true, label='Actual')\n",
        "plt.scatter(test_data[:, 0], y_pred, label='Predicted')\n",
        "plt.xlabel('x Test')\n",
        "plt.ylabel('y')\n",
        "plt.title('Actual vs. Predicted Test Data (3)')\n",
        "plt.legend()\n",
        "plt.show()\n",
        "\n",
        "print('MAE: {:.10f}'.format(mae))\n",
        "print('MSE: {:.10f}'.format(mse))\n",
        "print('RMSE: {:.10f}'.format(rmse))\n",
        "print('R2 Score: {:.10f}'.format(r2))\n"
      ]
    },
    {
      "cell_type": "markdown",
      "metadata": {
        "id": "UEoYbgEmCNEu"
      },
      "source": [
        "CASE 4"
      ]
    },
    {
      "cell_type": "code",
      "execution_count": null,
      "metadata": {
        "colab": {
          "base_uri": "https://localhost:8080/",
          "height": 384
        },
        "id": "lLvUfmRMCOXT",
        "outputId": "f2a693c0-c746-43de-c06a-5059582d1774"
      },
      "outputs": [
        {
          "output_type": "stream",
          "name": "stdout",
          "text": [
            "469/469 [==============================] - 1s 1ms/step\n"
          ]
        },
        {
          "output_type": "display_data",
          "data": {
            "text/plain": [
              "<Figure size 432x288 with 1 Axes>"
            ],
            "image/png": "[encoded data removed]"
          },
          "metadata": {
            "needs_background": "light"
          }
        },
        {
          "output_type": "stream",
          "name": "stdout",
          "text": [
            "MAE: 0.0128254564\n",
            "MSE: 0.0002500260\n",
            "RMSE: 0.0158122115\n",
            "R2 Score: 0.9931186501\n"
          ]
        }
      ],
      "source": [
        "data = get_dataset(30000, shuffle=True)\n",
        "scaled_data = scale_data(data)\n",
        "\n",
        "train_data, val_data, test_data = split_dataset(scaled_data, train_ratio=0.3, val_ratio=0.2, test_ratio=0.5)\n",
        "\n",
        "model_scaled = tf.keras.Sequential([\n",
        "    tf.keras.layers.Dense(12, activation='relu', input_shape=(1,)),\n",
        "    tf.keras.layers.Dense(8, activation='relu'),\n",
        "    tf.keras.layers.Dense(4, activation='relu'),\n",
        "    tf.keras.layers.Dense(1)\n",
        "])\n",
        "model_scaled.compile(optimizer='adam', loss='mse')\n",
        "model_scaled.fit(train_data[:, :-1], train_data[:, -1], epochs=20, batch_size=12, validation_data=(val_data[:, :-1], val_data[:, -1]), verbose=0)\n",
        "\n",
        "y_true = test_data[:, -1]\n",
        "y_pred = model_scaled.predict(test_data[:, :-1]).reshape(-1)\n",
        "mae, mse, rmse, r2 = evaluate_predictions(y_true, y_pred)\n",
        "\n",
        "# plot actual vs. predicted test data\n",
        "plt.scatter(test_data[:, 0], y_true, label='Actual')\n",
        "plt.scatter(test_data[:, 0], y_pred, label='Predicted')\n",
        "plt.xlabel('x Test')\n",
        "plt.ylabel('y')\n",
        "plt.title('Actual vs. Predicted Test Data (4)')\n",
        "plt.legend()\n",
        "plt.show()\n",
        "\n",
        "\n",
        "print('MAE: {:.10f}'.format(mae))\n",
        "print('MSE: {:.10f}'.format(mse))\n",
        "print('RMSE: {:.10f}'.format(rmse))\n",
        "print('R2 Score: {:.10f}'.format(r2))\n"
      ]
    },
    {
      "cell_type": "markdown",
      "metadata": {
        "id": "wMreni_mPrQJ"
      },
      "source": [
        "CASE 4 UNShuffled"
      ]
    },
    {
      "cell_type": "code",
      "execution_count": null,
      "metadata": {
        "colab": {
          "base_uri": "https://localhost:8080/",
          "height": 384
        },
        "id": "otqOMXOFPsym",
        "outputId": "24433bb2-b958-46bc-8857-cf24f58daf77"
      },
      "outputs": [
        {
          "output_type": "stream",
          "name": "stdout",
          "text": [
            "469/469 [==============================] - 1s 1ms/step\n"
          ]
        },
        {
          "output_type": "display_data",
          "data": {
            "text/plain": [
              "<Figure size 432x288 with 1 Axes>"
            ],
            "image/png": "[encoded data removed]"
          },
          "metadata": {
            "needs_background": "light"
          }
        },
        {
          "output_type": "stream",
          "name": "stdout",
          "text": [
            "MAE: 0.0660338714\n",
            "MSE: 0.0064356117\n",
            "RMSE: 0.0802222641\n",
            "R2 Score: 0.8215282888\n"
          ]
        }
      ],
      "source": [
        "data = get_dataset(30000, shuffle=False)\n",
        "scaled_data = scale_data(data)\n",
        "\n",
        "train_data, val_data, test_data = split_dataset(scaled_data, train_ratio=0.3, val_ratio=0.2, test_ratio=0.5)\n",
        "\n",
        "model_scaled = tf.keras.Sequential([\n",
        "    tf.keras.layers.Dense(12, activation='relu', input_shape=(1,)),\n",
        "    tf.keras.layers.Dense(8, activation='relu'),\n",
        "    tf.keras.layers.Dense(4, activation='relu'),\n",
        "    tf.keras.layers.Dense(1)\n",
        "])\n",
        "model_scaled.compile(optimizer='adam', loss='mse')\n",
        "model_scaled.fit(train_data[:, :-1], train_data[:, -1], epochs=20, batch_size=12, validation_data=(val_data[:, :-1], val_data[:, -1]), verbose=0)\n",
        "\n",
        "y_true = test_data[:, -1]\n",
        "y_pred = model_scaled.predict(test_data[:, :-1]).reshape(-1)\n",
        "mae, mse, rmse, r2 = evaluate_predictions(y_true, y_pred)\n",
        "\n",
        "# plot actual vs. predicted test data\n",
        "plt.scatter(test_data[:, 0], y_true, label='Actual')\n",
        "plt.scatter(test_data[:, 0], y_pred, label='Predicted')\n",
        "plt.xlabel('x Test')\n",
        "plt.ylabel('y')\n",
        "plt.title('Actual vs. Predicted Test Data (4)')\n",
        "plt.legend()\n",
        "plt.show()\n",
        "\n",
        "\n",
        "\n",
        "print('MAE: {:.10f}'.format(mae))\n",
        "print('MSE: {:.10f}'.format(mse))\n",
        "print('RMSE: {:.10f}'.format(rmse))\n",
        "print('R2 Score: {:.10f}'.format(r2))\n"
      ]
    },
    {
      "cell_type": "markdown",
      "metadata": {
        "id": "23ax-nk3FQfW"
      },
      "source": [
        "CASE 5"
      ]
    },
    {
      "cell_type": "code",
      "execution_count": null,
      "metadata": {
        "colab": {
          "base_uri": "https://localhost:8080/",
          "height": 384
        },
        "id": "gfWPMwMxFRSr",
        "outputId": "0de61652-0755-404d-9fd5-e6ff16f7c4b7"
      },
      "outputs": [
        {
          "output_type": "stream",
          "name": "stdout",
          "text": [
            "469/469 [==============================] - 1s 1ms/step\n"
          ]
        },
        {
          "output_type": "display_data",
          "data": {
            "text/plain": [
              "<Figure size 432x288 with 1 Axes>"
            ],
            "image/png": "[encoded data removed]"
          },
          "metadata": {
            "needs_background": "light"
          }
        },
        {
          "output_type": "stream",
          "name": "stdout",
          "text": [
            "MAE: 0.0102670565\n",
            "MSE: 0.0001874291\n",
            "RMSE: 0.0136904740\n",
            "R2 Score: 0.9947994778\n"
          ]
        }
      ],
      "source": [
        "data = get_dataset(30000, shuffle=True)\n",
        "scaled_data = scale_data(data)\n",
        "\n",
        "train_data, val_data, test_data = split_dataset(scaled_data, train_ratio=0.3, val_ratio=0.2, test_ratio=0.5)\n",
        "\n",
        "model_tanh = tf.keras.Sequential([\n",
        "    tf.keras.layers.Dense(12, activation='tanh', input_shape=(1,)),\n",
        "    tf.keras.layers.Dense(8, activation='tanh'),\n",
        "    tf.keras.layers.Dense(4, activation='tanh'),\n",
        "    tf.keras.layers.Dense(1)\n",
        "])\n",
        "model_tanh.compile(optimizer='adam', loss='mse')\n",
        "model_tanh.fit(train_data[:, :-1], train_data[:, -1], epochs=20, batch_size=12, validation_data=(val_data[:, :-1], val_data[:, -1]), verbose=0)\n",
        "\n",
        "y_true = test_data[:, -1]\n",
        "y_pred = model_tanh.predict(test_data[:, :-1]).reshape(-1)\n",
        "mae, mse, rmse, r2 = evaluate_predictions(y_true, y_pred)\n",
        "\n",
        "# plot actual vs. predicted test data\n",
        "plt.scatter(test_data[:, 0], y_true, label='Actual')\n",
        "plt.scatter(test_data[:, 0], y_pred, label='Predicted')\n",
        "plt.xlabel('x Test')\n",
        "plt.ylabel('y')\n",
        "plt.title('Actual vs. Predicted Test Data (5)')\n",
        "plt.legend()\n",
        "plt.show()\n",
        "\n",
        "\n",
        "\n",
        "print('MAE: {:.10f}'.format(mae))\n",
        "print('MSE: {:.10f}'.format(mse))\n",
        "print('RMSE: {:.10f}'.format(rmse))\n",
        "print('R2 Score: {:.10f}'.format(r2))\n"
      ]
    },
    {
      "cell_type": "markdown",
      "metadata": {
        "id": "0qb1pibMPw1a"
      },
      "source": [
        "CASE 5 UNSHUFFLED"
      ]
    },
    {
      "cell_type": "code",
      "execution_count": null,
      "metadata": {
        "colab": {
          "base_uri": "https://localhost:8080/",
          "height": 384
        },
        "id": "Q-ZE1_WyPyRe",
        "outputId": "77662096-19a9-49cc-b9a9-db69e7924d30"
      },
      "outputs": [
        {
          "output_type": "stream",
          "name": "stdout",
          "text": [
            "469/469 [==============================] - 1s 2ms/step\n"
          ]
        },
        {
          "output_type": "display_data",
          "data": {
            "text/plain": [
              "<Figure size 432x288 with 1 Axes>"
            ],
            "image/png": "[encoded data removed]"
          },
          "metadata": {
            "needs_background": "light"
          }
        },
        {
          "output_type": "stream",
          "name": "stdout",
          "text": [
            "MAE: 0.0095161870\n",
            "MSE: 0.0001439307\n",
            "RMSE: 0.0119971123\n",
            "R2 Score: 0.9960211200\n"
          ]
        }
      ],
      "source": [
        "data = get_dataset(30000, shuffle=False)\n",
        "scaled_data = scale_data(data)\n",
        "\n",
        "train_data, val_data, test_data = split_dataset(scaled_data, train_ratio=0.3, val_ratio=0.2, test_ratio=0.5)\n",
        "\n",
        "model_tanh = tf.keras.Sequential([\n",
        "    tf.keras.layers.Dense(12, activation='tanh', input_shape=(1,)),\n",
        "    tf.keras.layers.Dense(8, activation='tanh'),\n",
        "    tf.keras.layers.Dense(4, activation='tanh'),\n",
        "    tf.keras.layers.Dense(1)\n",
        "])\n",
        "model_tanh.compile(optimizer='adam', loss='mse')\n",
        "model_tanh.fit(train_data[:, :-1], train_data[:, -1], epochs=20, batch_size=12, validation_data=(val_data[:, :-1], val_data[:, -1]), verbose=0)\n",
        "\n",
        "y_true = test_data[:, -1]\n",
        "y_pred = model_tanh.predict(test_data[:, :-1]).reshape(-1)\n",
        "mae, mse, rmse, r2 = evaluate_predictions(y_true, y_pred)\n",
        "\n",
        "# plot actual vs. predicted test data\n",
        "plt.scatter(test_data[:, 0], y_true, label='Actual')\n",
        "plt.scatter(test_data[:, 0], y_pred, label='Predicted')\n",
        "plt.xlabel('x Test')\n",
        "plt.ylabel('y')\n",
        "plt.title('Actual vs. Predicted Test Data (5)')\n",
        "plt.legend()\n",
        "plt.show()\n",
        "\n",
        "\n",
        "\n",
        "print('MAE: {:.10f}'.format(mae))\n",
        "print('MSE: {:.10f}'.format(mse))\n",
        "print('RMSE: {:.10f}'.format(rmse))\n",
        "print('R2 Score: {:.10f}'.format(r2))\n"
      ]
    },
    {
      "cell_type": "markdown",
      "metadata": {
        "id": "txMmPX6QP1R8"
      },
      "source": [
        "QUESTION 6"
      ]
    },
    {
      "cell_type": "code",
      "source": [
        "import numpy as np\n",
        "\n",
        "def sigmoid(x):\n",
        "    return 1 / (1 + np.exp(-x))\n",
        "\n",
        "def sigmoid_derivative(x):\n",
        "    return x * (1 - x)\n",
        "\n",
        "X = np.array([[0, 0], [0, 1], [1, 0], [1, 1]])\n",
        "y = np.array([[0], [1], [1], [0]])\n",
        "\n",
        "np.random.seed(1)\n",
        "weights_1 = np.random.uniform(low=-1, high=1, size=(2, 4))\n",
        "weights_2 = np.random.uniform(low=-1, high=1, size=(4, 1))\n",
        "\n",
        "print(\"Shapes:\\nInput:\", X.shape, \"Hidden Layer 1:\", weights_1.shape, \"Hidden Layer 2:\", weights_2.shape)\n",
        "\n",
        "for epoch in range(50000):\n",
        "\n",
        "    hidden_layer = sigmoid(np.dot(X, weights_1))\n",
        "    output_layer = sigmoid(np.dot(hidden_layer, weights_2))\n",
        "\n",
        "    output_error = y - output_layer\n",
        "\n",
        "    output_delta = output_error * sigmoid_derivative(output_layer)\n",
        "    hidden_error = output_delta.dot(weights_2.T) * sigmoid_derivative(hidden_layer)\n",
        "\n",
        "    weights_2 += hidden_layer.T.dot(output_delta)\n",
        "    weights_1 += X.T.dot(hidden_error)\n",
        "\n",
        "predicted_output = sigmoid(np.dot(sigmoid(np.dot(X, weights_1)), weights_2))\n",
        "print(f'>>>Predicted Output:\\n{predicted_output}')\n"
      ],
      "metadata": {
        "colab": {
          "base_uri": "https://localhost:8080/"
        },
        "id": "FBx-TczE9o_G",
        "outputId": "34d2cac3-12c6-477a-96fe-1ebd98a67912"
      },
      "execution_count": null,
      "outputs": [
        {
          "output_type": "stream",
          "name": "stdout",
          "text": [
            "Shapes:\n",
            "Input: (4, 2) Hidden Layer 1: (2, 4) Hidden Layer 2: (4, 1)\n",
            ">>>Predicted Output:\n",
            "[[0.00886457]\n",
            " [0.99345181]\n",
            " [0.99204399]\n",
            " [0.00662401]]\n"
          ]
        }
      ]
    }
  ],
  "metadata": {
    "accelerator": "GPU",
    "colab": {
      "toc_visible": true,
      "provenance": [],
      "authorship_tag": "ABX9TyP4/K8WqMKQJNgGv9jN5gAa",
      "include_colab_link": true
    },
    "gpuClass": "standard",
    "kernelspec": {
      "display_name": "Python 3",
      "name": "python3"
    },
    "language_info": {
      "name": "python"
    }
  },
  "nbformat": 4,
  "nbformat_minor": 0
}