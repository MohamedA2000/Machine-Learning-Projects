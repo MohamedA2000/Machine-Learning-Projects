{
  "nbformat": 4,
  "nbformat_minor": 0,
  "metadata": {
    "colab": {
      "provenance": [],
      "toc_visible": true,
      "include_colab_link": true
    },
    "kernelspec": {
      "name": "python3",
      "display_name": "Python 3"
    },
    "language_info": {
      "name": "python"
    }
  },
  "cells": [
    {
      "cell_type": "markdown",
      "metadata": {
        "id": "view-in-github",
        "colab_type": "text"
      },
      "source": [
        "<a href=\"https://colab.research.google.com/github/MohamedA2000/Machine-Learning-Projects/blob/main/Linear_Regression.ipynb\" target=\"_parent\"><img src=\"https://colab.research.google.com/assets/colab-badge.svg\" alt=\"Open In Colab\"/></a>"
      ]
    },
    {
      "cell_type": "markdown",
      "source": [
        "Importing the data and displaying it in a table"
      ],
      "metadata": {
        "id": "Mj0YsC6e_YmN"
      }
    },
    {
      "cell_type": "code",
      "execution_count": null,
      "metadata": {
        "id": "pwQQ_-VmRzus",
        "colab": {
          "base_uri": "https://localhost:8080/",
          "height": 424
        },
        "outputId": "c1e5dff1-c86f-40ca-df50-a866cec71998"
      },
      "outputs": [
        {
          "output_type": "execute_result",
          "data": {
            "text/plain": [
              "    Midterm mark  Final mark\n",
              "0           32.5        31.7\n",
              "1           53.4        68.8\n",
              "2           61.5        62.6\n",
              "3           47.5        71.5\n",
              "4           59.8        87.2\n",
              "..           ...         ...\n",
              "95          50.0        81.5\n",
              "96          49.2        72.1\n",
              "97          50.0        85.2\n",
              "98          48.1        66.2\n",
              "99          25.1        53.5\n",
              "\n",
              "[100 rows x 2 columns]"
            ],
            "text/html": [
              "\n",
              "  <div id=\"df-844ee6fb-cf34-4cde-901c-6787e3b36ecc\">\n",
              "    <div class=\"colab-df-container\">\n",
              "      <div>\n",
              "<style scoped>\n",
              "    .dataframe tbody tr th:only-of-type {\n",
              "        vertical-align: middle;\n",
              "    }\n",
              "\n",
              "    .dataframe tbody tr th {\n",
              "        vertical-align: top;\n",
              "    }\n",
              "\n",
              "    .dataframe thead th {\n",
              "        text-align: right;\n",
              "    }\n",
              "</style>\n",
              "<table border=\"1\" class=\"dataframe\">\n",
              "  <thead>\n",
              "    <tr style=\"text-align: right;\">\n",
              "      <th></th>\n",
              "      <th>Midterm mark</th>\n",
              "      <th>Final mark</th>\n",
              "    </tr>\n",
              "  </thead>\n",
              "  <tbody>\n",
              "    <tr>\n",
              "      <th>0</th>\n",
              "      <td>32.5</td>\n",
              "      <td>31.7</td>\n",
              "    </tr>\n",
              "    <tr>\n",
              "      <th>1</th>\n",
              "      <td>53.4</td>\n",
              "      <td>68.8</td>\n",
              "    </tr>\n",
              "    <tr>\n",
              "      <th>2</th>\n",
              "      <td>61.5</td>\n",
              "      <td>62.6</td>\n",
              "    </tr>\n",
              "    <tr>\n",
              "      <th>3</th>\n",
              "      <td>47.5</td>\n",
              "      <td>71.5</td>\n",
              "    </tr>\n",
              "    <tr>\n",
              "      <th>4</th>\n",
              "      <td>59.8</td>\n",
              "      <td>87.2</td>\n",
              "    </tr>\n",
              "    <tr>\n",
              "      <th>...</th>\n",
              "      <td>...</td>\n",
              "      <td>...</td>\n",
              "    </tr>\n",
              "    <tr>\n",
              "      <th>95</th>\n",
              "      <td>50.0</td>\n",
              "      <td>81.5</td>\n",
              "    </tr>\n",
              "    <tr>\n",
              "      <th>96</th>\n",
              "      <td>49.2</td>\n",
              "      <td>72.1</td>\n",
              "    </tr>\n",
              "    <tr>\n",
              "      <th>97</th>\n",
              "      <td>50.0</td>\n",
              "      <td>85.2</td>\n",
              "    </tr>\n",
              "    <tr>\n",
              "      <th>98</th>\n",
              "      <td>48.1</td>\n",
              "      <td>66.2</td>\n",
              "    </tr>\n",
              "    <tr>\n",
              "      <th>99</th>\n",
              "      <td>25.1</td>\n",
              "      <td>53.5</td>\n",
              "    </tr>\n",
              "  </tbody>\n",
              "</table>\n",
              "<p>100 rows × 2 columns</p>\n",
              "</div>\n",
              "      <button class=\"colab-df-convert\" onclick=\"convertToInteractive('df-844ee6fb-cf34-4cde-901c-6787e3b36ecc')\"\n",
              "              title=\"Convert this dataframe to an interactive table.\"\n",
              "              style=\"display:none;\">\n",
              "        \n",
              "  <svg xmlns=\"http://www.w3.org/2000/svg\" height=\"24px\"viewBox=\"0 0 24 24\"\n",
              "       width=\"24px\">\n",
              "    <path d=\"M0 0h24v24H0V0z\" fill=\"none\"/>\n",
              "    <path d=\"M18.56 5.44l.94 2.06.94-2.06 2.06-.94-2.06-.94-.94-2.06-.94 2.06-2.06.94zm-11 1L8.5 8.5l.94-2.06 2.06-.94-2.06-.94L8.5 2.5l-.94 2.06-2.06.94zm10 10l.94 2.06.94-2.06 2.06-.94-2.06-.94-.94-2.06-.94 2.06-2.06.94z\"/><path d=\"M17.41 7.96l-1.37-1.37c-.4-.4-.92-.59-1.43-.59-.52 0-1.04.2-1.43.59L10.3 9.45l-7.72 7.72c-.78.78-.78 2.05 0 2.83L4 21.41c.39.39.9.59 1.41.59.51 0 1.02-.2 1.41-.59l7.78-7.78 2.81-2.81c.8-.78.8-2.07 0-2.86zM5.41 20L4 18.59l7.72-7.72 1.47 1.35L5.41 20z\"/>\n",
              "  </svg>\n",
              "      </button>\n",
              "      \n",
              "  <style>\n",
              "    .colab-df-container {\n",
              "      display:flex;\n",
              "      flex-wrap:wrap;\n",
              "      gap: 12px;\n",
              "    }\n",
              "\n",
              "    .colab-df-convert {\n",
              "      background-color: #E8F0FE;\n",
              "      border: none;\n",
              "      border-radius: 50%;\n",
              "      cursor: pointer;\n",
              "      display: none;\n",
              "      fill: #1967D2;\n",
              "      height: 32px;\n",
              "      padding: 0 0 0 0;\n",
              "      width: 32px;\n",
              "    }\n",
              "\n",
              "    .colab-df-convert:hover {\n",
              "      background-color: #E2EBFA;\n",
              "      box-shadow: 0px 1px 2px rgba(60, 64, 67, 0.3), 0px 1px 3px 1px rgba(60, 64, 67, 0.15);\n",
              "      fill: #174EA6;\n",
              "    }\n",
              "\n",
              "    [theme=dark] .colab-df-convert {\n",
              "      background-color: #3B4455;\n",
              "      fill: #D2E3FC;\n",
              "    }\n",
              "\n",
              "    [theme=dark] .colab-df-convert:hover {\n",
              "      background-color: #434B5C;\n",
              "      box-shadow: 0px 1px 3px 1px rgba(0, 0, 0, 0.15);\n",
              "      filter: drop-shadow(0px 1px 2px rgba(0, 0, 0, 0.3));\n",
              "      fill: #FFFFFF;\n",
              "    }\n",
              "  </style>\n",
              "\n",
              "      <script>\n",
              "        const buttonEl =\n",
              "          document.querySelector('#df-844ee6fb-cf34-4cde-901c-6787e3b36ecc button.colab-df-convert');\n",
              "        buttonEl.style.display =\n",
              "          google.colab.kernel.accessAllowed ? 'block' : 'none';\n",
              "\n",
              "        async function convertToInteractive(key) {\n",
              "          const element = document.querySelector('#df-844ee6fb-cf34-4cde-901c-6787e3b36ecc');\n",
              "          const dataTable =\n",
              "            await google.colab.kernel.invokeFunction('convertToInteractive',\n",
              "                                                     [key], {});\n",
              "          if (!dataTable) return;\n",
              "\n",
              "          const docLinkHtml = 'Like what you see? Visit the ' +\n",
              "            '<a target=\"_blank\" href=https://colab.research.google.com/notebooks/data_table.ipynb>data table notebook</a>'\n",
              "            + ' to learn more about interactive tables.';\n",
              "          element.innerHTML = '';\n",
              "          dataTable['output_type'] = 'display_data';\n",
              "          await google.colab.output.renderOutput(dataTable, element);\n",
              "          const docLink = document.createElement('div');\n",
              "          docLink.innerHTML = docLinkHtml;\n",
              "          element.appendChild(docLink);\n",
              "        }\n",
              "      </script>\n",
              "    </div>\n",
              "  </div>\n",
              "  "
            ]
          },
          "metadata": {},
          "execution_count": 2
        }
      ],
      "source": [
        "import matplotlib\n",
        "import numpy as np\n",
        "import pandas as pd\n",
        "\n",
        "\n",
        "import matplotlib.pyplot as plt\n",
        "%matplotlib inline \n",
        "\n",
        "from sklearn.linear_model import LinearRegression\n",
        "\n",
        "#data = pd.read_csv(\"univariate_linear_regression.csv\") #if you upload here\n",
        "data = pd.read_csv(\"https://raw.githubusercontent.com/tofighi/MachineLearning/master/datasets/student_marks.csv\") #if you upload to your GitHub\n",
        "data\n"
      ]
    },
    {
      "cell_type": "markdown",
      "source": [
        "Extracting the mean and standard deviation from the data"
      ],
      "metadata": {
        "id": "AIh0KPMz_d-W"
      }
    },
    {
      "cell_type": "code",
      "source": [
        "mean = np.mean(data)\n",
        "stdev = np.std(data)\n",
        "\n",
        "print(\"Mean:\", mean)\n",
        "print(\"Standard Deviation:\", stdev)"
      ],
      "metadata": {
        "id": "1DcxigXAEdAw",
        "colab": {
          "base_uri": "https://localhost:8080/"
        },
        "outputId": "e7d4f8b1-34c9-4d7a-9cbd-fcf6db3e58db"
      },
      "execution_count": null,
      "outputs": [
        {
          "output_type": "stream",
          "name": "stdout",
          "text": [
            "Mean: Midterm mark    48.959\n",
            "Final mark      72.735\n",
            "dtype: float64\n",
            "Standard Deviation: Midterm mark     9.697640\n",
            "Final mark      16.574748\n",
            "dtype: float64\n"
          ]
        }
      ]
    },
    {
      "cell_type": "markdown",
      "source": [
        "Implemented functions for Standardization, Error\n",
        "(cost function), Gradient Partial Derivatives and Updating m and b using a learning\n",
        "rate"
      ],
      "metadata": {
        "id": "oPb3yqp7_nJ1"
      }
    },
    {
      "cell_type": "code",
      "source": [
        "\n",
        "# Standardization \n",
        "def standardize(data):\n",
        "    mean = np.mean(data)\n",
        "    stdev = np.std(data)\n",
        "    return (data - mean) / stdev\n",
        "   \n",
        "# Error (cost) function\n",
        "def error(m, b, data):\n",
        "    x = data[:, 0]\n",
        "    y = data[:, 1]\n",
        "    yp = m * x + b\n",
        "    return np.sum((y - yp) ** 2)\n",
        "\n",
        "# Gradient partial derivatives\n",
        "def gradient_m(m, b, data, alpha):\n",
        "    x = data[:, 0]\n",
        "    y = data[:, 1]\n",
        "    yp = m * x + b\n",
        "    return -2 * np.sum(x * (y - yp))\n",
        "\n",
        "def gradient_b(m, b, data, alpha):\n",
        "    x = data[:, 0]\n",
        "    y = data[:, 1]\n",
        "    yp = m * x + b\n",
        "    return -2 * np.sum(y - yp)\n",
        "\n",
        "# Updating m and b\n",
        "def update_params(m, b, data, alpha):\n",
        "    m = m - alpha * gradient_m(m, b, data, alpha)\n",
        "    b = b - alpha * gradient_b(m, b, data, alpha)\n",
        "    return m, b\n"
      ],
      "metadata": {
        "id": "9gfWwpRHj5Kw"
      },
      "execution_count": null,
      "outputs": []
    },
    {
      "cell_type": "markdown",
      "source": [
        "Initialized m,b and alpha, and showed the initial regression line on the same figure\n",
        "\n",
        "\n"
      ],
      "metadata": {
        "id": "F9fbmlqU_tIy"
      }
    },
    {
      "cell_type": "code",
      "source": [
        "import matplotlib.pyplot as plt\n",
        "\n",
        "x = data['Midterm mark'] \n",
        "y = data['Final mark']\n",
        "\n",
        "# Initialize m = -0.5 and b = 0\n",
        "m = -0.5\n",
        "b = 0\n",
        "\n",
        "# Create  figure\n",
        "fig, ax = plt.subplots()\n",
        "\n",
        "# Create the scatter plot Data\n",
        "ax.scatter(x, y)\n",
        "\n",
        "# Plot the initial regressiom line\n",
        "ax.plot(x, [m*i + b for i in x], color='r')\n",
        "print(\"Slope (m) : \", m)\n",
        "print(\"y-intercept (b) : \", b)\n",
        "# display the chart\n",
        "plt.show()\n"
      ],
      "metadata": {
        "colab": {
          "base_uri": "https://localhost:8080/",
          "height": 301
        },
        "id": "jxD_Ia3wkBqp",
        "outputId": "ed605532-e7b6-4894-b44b-b2396fa791e0"
      },
      "execution_count": null,
      "outputs": [
        {
          "output_type": "stream",
          "name": "stdout",
          "text": [
            "Slope (m) :  -0.5\n",
            "y-intercept (b) :  0\n"
          ]
        },
        {
          "output_type": "display_data",
          "data": {
            "text/plain": [
              "<Figure size 432x288 with 1 Axes>"
            ],
            "image/png": "[encoded data removed]"
          },
          "metadata": {
            "needs_background": "light"
          }
        }
      ]
    },
    {
      "cell_type": "markdown",
      "source": [
        "Updated b and m 100 times, and created another figure showing the regression line and\n",
        "datapoints in the same figure, and Created a new graph showing Error at each iteration (from initial point to iteration 100), where the\n",
        "x-axis is iteration number and the y-axis is Error."
      ],
      "metadata": {
        "id": "NbXeDH8n_2P0"
      }
    },
    {
      "cell_type": "code",
      "source": [
        "import matplotlib.pyplot as plt\n",
        "x = data['Midterm mark'] \n",
        "y = data['Final mark']\n",
        "\n",
        "\n",
        "# Initialize m = -0.5 and b = 0\n",
        "m = -0.5\n",
        "b = 0\n",
        "alpha = 0.0001\n",
        "\n",
        "\n",
        "x= x.values.reshape(-1,1) \n",
        "y = y.values.reshape(-1,1)\n",
        "# Create  figure\n",
        "fig, ax = plt.subplots()\n",
        "\n",
        "# Create the scatter plot of the data\n",
        "ax.scatter(x, y)\n",
        "\n",
        "# Initializing empty list to store the errors\n",
        "errors = []\n",
        "\n",
        "# Update m and b 100 times\n",
        "for i in range(100):\n",
        "    b = b - alpha * 2 * (b + m*x - y).mean()\n",
        "    m = m - alpha * 2 * (x*(b + m*x - y)).mean()\n",
        "    # ax.plot(x, [m*i + b for i in x], color='r')\n",
        "    # plt.plot(x, [m*i + b for i in x],'brown')\n",
        "    # calculations for error at each iteration @ 100\n",
        "    yp = [m*i + b for i in x]\n",
        "    makeError = ((yp - y) **2).mean()\n",
        "    errors.append(makeError)\n",
        "plt.plot(x, [m*i + b for i in x],'red')\n",
        "print(\"Slope (m) : \", m)\n",
        "print(\"y-intercept (b) : \", b)\n",
        "\n",
        "# Plotting the errors against iteration number to 100\n",
        "plt.figure()\n",
        "plt.plot(errors,'green')\n",
        "plt.xlabel('Iteration Number')\n",
        "plt.ylabel('Error')\n",
        "plt.show()\n"
      ],
      "metadata": {
        "colab": {
          "base_uri": "https://localhost:8080/",
          "height": 563
        },
        "id": "YJoP5MzkVG3L",
        "outputId": "a7ef6e4b-2517-46bd-d511-6a961c3d359b"
      },
      "execution_count": null,
      "outputs": [
        {
          "output_type": "stream",
          "name": "stdout",
          "text": [
            "Slope (m) :  1.4785714051695928\n",
            "y-intercept (b) :  0.04491397525245156\n"
          ]
        },
        {
          "output_type": "display_data",
          "data": {
            "text/plain": [
              "<Figure size 432x288 with 1 Axes>"
            ],
            "image/png": "[encoded data removed]"
          },
          "metadata": {
            "needs_background": "light"
          }
        },
        {
          "output_type": "display_data",
          "data": {
            "text/plain": [
              "<Figure size 432x288 with 1 Axes>"
            ],
            "image/png": "[encoded data removed]"
          },
          "metadata": {
            "needs_background": "light"
          }
        }
      ]
    },
    {
      "cell_type": "markdown",
      "source": [
        "Updated b and m 2000 times, and created another figure showing the regression line and\n",
        "datapoints in the same figure, and Created a new graph showing Error at each iteration (from initial point to iteration 2000), where the\n",
        "x-axis is iteration number and the y-axis is Error."
      ],
      "metadata": {
        "id": "DFtky1djAn_d"
      }
    },
    {
      "cell_type": "code",
      "source": [
        "import matplotlib.pyplot as plt\n",
        "x = data['Midterm mark'] \n",
        "y = data['Final mark']\n",
        "\n",
        "\n",
        "# Initialize m = -0.5 and b = 0 and learning rate = 0.0001\n",
        "m = -0.5\n",
        "b = 0\n",
        "alpha = 0.0001\n",
        "\n",
        "\n",
        "x= x.values.reshape(-1,1) \n",
        "y = y.values.reshape(-1,1)\n",
        "# Create  figure\n",
        "fig, ax = plt.subplots()\n",
        "\n",
        "# Creating the scatter plot of  data\n",
        "ax.scatter(x, y)\n",
        "\n",
        "# Initialize  empty list to store errors\n",
        "errors = []\n",
        "\n",
        "# Update m and b 2000 times\n",
        "for i in range(2000):\n",
        "    b = b - alpha * 2 * (b + m*x - y).mean()\n",
        "    m = m - alpha * 2 * (x*(b + m*x - y)).mean()\n",
        "    # ax.plot(x, [m*i + b for i in x], color='r')\n",
        "    \n",
        "    # plt.plot(x, [m*i + b for i in x],'brown')\n",
        "\n",
        "    # the error at each iteration for 2000\n",
        "    yp = [m*i + b for i in x]\n",
        "    error = ((yp - y) ** 2).mean()\n",
        "    errors.append(error)\n",
        "plt.plot(x, [m*i + b for i in x],'green')\n",
        "print(\"Slope (m) : \", m)\n",
        "print(\"y-intercept (b) : \", b)\n",
        "\n",
        "# Plot error against iteration number\n",
        "plt.figure()\n",
        "plt.plot(errors)\n",
        "plt.xlabel('Iteration Number')\n",
        "plt.ylabel('Error')\n",
        "plt.show()\n"
      ],
      "metadata": {
        "colab": {
          "base_uri": "https://localhost:8080/",
          "height": 563
        },
        "id": "Xhr9INrQQTck",
        "outputId": "d83b287d-5f7d-4ada-aa2c-f87ed6099f9d"
      },
      "execution_count": null,
      "outputs": [
        {
          "output_type": "stream",
          "name": "stdout",
          "text": [
            "Slope (m) :  1.476341546141021\n",
            "y-intercept (b) :  0.15836806577540166\n"
          ]
        },
        {
          "output_type": "display_data",
          "data": {
            "text/plain": [
              "<Figure size 432x288 with 1 Axes>"
            ],
            "image/png": "[encoded data removed]"
          },
          "metadata": {
            "needs_background": "light"
          }
        },
        {
          "output_type": "display_data",
          "data": {
            "text/plain": [
              "<Figure size 432x288 with 1 Axes>"
            ],
            "image/png": "[encoded data removed]"
          },
          "metadata": {
            "needs_background": "light"
          }
        }
      ]
    },
    {
      "cell_type": "markdown",
      "source": [
        "Defined and printed the standardized data"
      ],
      "metadata": {
        "id": "Nyl_RkzJAzeZ"
      }
    },
    {
      "cell_type": "code",
      "source": [
        "def standardize(data):\n",
        "  mean = np.mean(data)\n",
        "  stdev = np.std(data)\n",
        "  return (data - mean) / stdev\n",
        "\n",
        "\n",
        "print(standardize(data))\n",
        "\n"
      ],
      "metadata": {
        "id": "0QI_wNhzLC7j",
        "colab": {
          "base_uri": "https://localhost:8080/"
        },
        "outputId": "ea4a181f-da92-4602-8e27-9ec701815c92"
      },
      "execution_count": null,
      "outputs": [
        {
          "output_type": "stream",
          "name": "stdout",
          "text": [
            "    Midterm mark  Final mark\n",
            "0      -1.697217   -2.475754\n",
            "1       0.457946   -0.237409\n",
            "2       1.293201   -0.611472\n",
            "3      -0.150449   -0.074511\n",
            "4       1.117901    0.872713\n",
            "..           ...         ...\n",
            "95      0.107346    0.528816\n",
            "96      0.024851   -0.038311\n",
            "97      0.107346    0.752048\n",
            "98     -0.088578   -0.394274\n",
            "99     -2.460289   -1.160500\n",
            "\n",
            "[100 rows x 2 columns]\n"
          ]
        }
      ]
    },
    {
      "cell_type": "markdown",
      "source": [
        "Plotted the standardized Data"
      ],
      "metadata": {
        "id": "xoMJ_t33A1Yg"
      }
    },
    {
      "cell_type": "code",
      "source": [
        "X = standardize(data)['Midterm mark'] \n",
        "y = standardize(data)['Final mark']\n",
        "\n",
        "plt.scatter(X,y)\n",
        "plt.show()\n"
      ],
      "metadata": {
        "id": "GGcNg3LDOAOq",
        "colab": {
          "base_uri": "https://localhost:8080/",
          "height": 268
        },
        "outputId": "933a172f-961e-4ed7-d8bc-9ef4df054877"
      },
      "execution_count": null,
      "outputs": [
        {
          "output_type": "display_data",
          "data": {
            "text/plain": [
              "<Figure size 432x288 with 1 Axes>"
            ],
            "image/png": "[encoded data removed]"
          },
          "metadata": {
            "needs_background": "light"
          }
        }
      ]
    },
    {
      "cell_type": "markdown",
      "source": [
        "Initialized m,b and alpha, and showed the initial regression line on the same figure for standardized data\n"
      ],
      "metadata": {
        "id": "gLCtKFGBA_If"
      }
    },
    {
      "cell_type": "code",
      "source": [
        "import matplotlib.pyplot as plt\n",
        "\n",
        "x = standardize(data)['Midterm mark'] \n",
        "y = standardize(data)['Final mark']\n",
        "\n",
        "# Initialize m = -0.5 and b = 0\n",
        "m = -0.5\n",
        "b = 0\n",
        "\n",
        "# Create  figure\n",
        "fig, ax = plt.subplots()\n",
        "\n",
        "# Create the scatter plot Data\n",
        "ax.scatter(x, y)\n",
        "\n",
        "# Plot the initial regressiom line\n",
        "ax.plot(x, [m*i + b for i in x], color='r')\n",
        "print(\"Slope (m) : \", m)\n",
        "print(\"y-intercept (b) : \", b)\n",
        "# display the chart\n",
        "plt.show()\n"
      ],
      "metadata": {
        "colab": {
          "base_uri": "https://localhost:8080/",
          "height": 304
        },
        "id": "LPTn_yRMnHIq",
        "outputId": "6c508a70-65c0-4536-b40d-81a15dee48b5"
      },
      "execution_count": null,
      "outputs": [
        {
          "output_type": "stream",
          "name": "stdout",
          "text": [
            "Slope (m) :  -0.5\n",
            "y-intercept (b) :  0\n"
          ]
        },
        {
          "output_type": "display_data",
          "data": {
            "text/plain": [
              "<Figure size 432x288 with 1 Axes>"
            ],
            "image/png": "[encoded data removed]"
          },
          "metadata": {
            "needs_background": "light"
          }
        }
      ]
    },
    {
      "cell_type": "markdown",
      "source": [
        "For standardized data, Updated b and m 100 times, and created another figure showing the regression line and\n",
        "datapoints in the same figure, and Created a new graph showing Error at each iteration (from initial point to iteration 100), where the\n",
        "x-axis is iteration number and the y-axis is Error."
      ],
      "metadata": {
        "id": "SGGLVG5FBHdo"
      }
    },
    {
      "cell_type": "code",
      "source": [
        "import matplotlib.pyplot as plt\n",
        "x = standardize(data)['Midterm mark'] \n",
        "y = standardize(data)['Final mark']\n",
        "\n",
        "\n",
        "# Initialize m = -0.5 and b = 0 and learning rate= 0.0001\n",
        "m = -0.5\n",
        "b = 0\n",
        "alpha = 0.0001\n",
        "\n",
        "\n",
        "x= x.values.reshape(-1,1) \n",
        "y = y.values.reshape(-1,1)\n",
        "# Create the figure\n",
        "fig, ax = plt.subplots()\n",
        "\n",
        "# Creating a  scatter plot of the standardized data\n",
        "ax.scatter(x, y)\n",
        "\n",
        "# Initialize  empty list to store errors\n",
        "errors = []\n",
        "\n",
        "# Update m and b 100 times\n",
        "for i in range(100):\n",
        "    b = b - alpha * 2 * (b + m*x - y).mean()\n",
        "    m = m - alpha * 2 * (x*(b + m*x - y)).mean()\n",
        "    # ax.plot(x, [m*i + b for i in x], color='r')\n",
        "    \n",
        "    # plt.plot(x, [m*i + b for i in x],'brown')\n",
        "\n",
        "    # Calculate  error at each iteration\n",
        "    yp = [m*i + b for i in x]\n",
        "    error = ((yp - y) ** 2).mean()\n",
        "    errors.append(error)\n",
        "plt.plot(x, [m*i + b for i in x],'green')\n",
        "\n",
        "# Plot error against iteration number\n",
        "plt.figure()\n",
        "plt.plot(errors)\n",
        "plt.xlabel('Iteration Number')\n",
        "plt.ylabel('Error')\n",
        "plt.show()\n"
      ],
      "metadata": {
        "colab": {
          "base_uri": "https://localhost:8080/",
          "height": 530
        },
        "id": "TDGR2DIc_Msu",
        "outputId": "fbd1b0a1-1274-4efe-aab4-66cf6514ca12"
      },
      "execution_count": null,
      "outputs": [
        {
          "output_type": "display_data",
          "data": {
            "text/plain": [
              "<Figure size 432x288 with 1 Axes>"
            ],
            "image/png": "[encoded data removed]"
          },
          "metadata": {
            "needs_background": "light"
          }
        },
        {
          "output_type": "display_data",
          "data": {
            "text/plain": [
              "<Figure size 432x288 with 1 Axes>"
            ],
            "image/png": "[encoded data removed]"
          },
          "metadata": {
            "needs_background": "light"
          }
        }
      ]
    },
    {
      "cell_type": "markdown",
      "source": [
        "For standardized data, Updated b and m 2000 times, and created another figure showing the regression line and\n",
        "datapoints in the same figure, and Created a new graph showing Error at each iteration (from initial point to iteration 2000), where the\n",
        "x-axis is iteration number and the y-axis is Error."
      ],
      "metadata": {
        "id": "BVz6ay-xBL-L"
      }
    },
    {
      "cell_type": "code",
      "source": [
        "import matplotlib.pyplot as plt\n",
        "x = standardize(data)['Midterm mark'] \n",
        "y = standardize(data)['Final mark']\n",
        "\n",
        "\n",
        "# Initialize m = -0.5 and b = 0\n",
        "m = -0.5\n",
        "b = 0\n",
        "alpha = 0.0001\n",
        "\n",
        "\n",
        "x= x.values.reshape(-1,1) \n",
        "y = y.values.reshape(-1,1)\n",
        "# Creating figure\n",
        "fig, ax = plt.subplots()\n",
        "\n",
        "# Creating a scatter plot of the data\n",
        "ax.scatter(x, y)\n",
        "\n",
        "# Initialize  empty list to store errors\n",
        "errors = []\n",
        "\n",
        "# Update m and b 2000 times\n",
        "for i in range(2000):\n",
        "    b = b - alpha * 2 * (b + m*x - y).mean()\n",
        "    m = m - alpha * 2 * (x*(b + m*x - y)).mean()\n",
        "    # ax.plot(x, [m*i + b for i in x], color='r')\n",
        "    \n",
        "    # plt.plot(x, [m*i + b for i in x],'brown')\n",
        "\n",
        "    # Calculate  error at each iteration\n",
        "    yp = [m*i + b for i in x]\n",
        "    error = ((yp - y) ** 2).mean()\n",
        "    errors.append(error)\n",
        "plt.plot(x, [m*i + b for i in x],'green')\n",
        "\n",
        "# Plot error against iteration number\n",
        "plt.figure()\n",
        "plt.plot(errors)\n",
        "plt.xlabel('Iteration Number')\n",
        "plt.ylabel('Error')\n",
        "plt.show()\n"
      ],
      "metadata": {
        "colab": {
          "base_uri": "https://localhost:8080/",
          "height": 530
        },
        "id": "zvztzivq_DLz",
        "outputId": "f764f50e-7012-4f73-bb7c-c9c3b2e54627"
      },
      "execution_count": null,
      "outputs": [
        {
          "output_type": "display_data",
          "data": {
            "text/plain": [
              "<Figure size 432x288 with 1 Axes>"
            ],
            "image/png": "[encoded data removed]"
          },
          "metadata": {
            "needs_background": "light"
          }
        },
        {
          "output_type": "display_data",
          "data": {
            "text/plain": [
              "<Figure size 432x288 with 1 Axes>"
            ],
            "image/png": "[encoded data removed]"
          },
          "metadata": {
            "needs_background": "light"
          }
        }
      ]
    },
    {
      "cell_type": "markdown",
      "source": [
        "Updated the Learning Rate to 0.1 for the Data, to plot the error chart up to 100 iterations"
      ],
      "metadata": {
        "id": "1zumEVFpBYdN"
      }
    },
    {
      "cell_type": "code",
      "source": [
        "import matplotlib.pyplot as plt\n",
        "x = data['Midterm mark'] \n",
        "y = data['Final mark']\n",
        "\n",
        "\n",
        "# Initialize m = -0.5 and b = 0 and learning rate 0.1\n",
        "m = -0.5\n",
        "b = 0\n",
        "alpha = 0.1\n",
        "\n",
        "\n",
        "x= x.values.reshape(-1,1) \n",
        "y = y.values.reshape(-1,1)\n",
        "# Createing figure\n",
        "fig, ax = plt.subplots()\n",
        "\n",
        "# Creating scatter plot of the data\n",
        "ax.scatter(x, y)\n",
        "\n",
        "# Initialize an empty list to store errors\n",
        "errors = []\n",
        "\n",
        "# Update m and b 100 times\n",
        "for i in range(100):\n",
        "    b = b - alpha * 2 * (b + m*x - y).mean()\n",
        "    m = m - alpha * 2 * (x*(b + m*x - y)).mean()\n",
        "    # ax.plot(x, [m*i + b for i in x], color='r')\n",
        "    \n",
        "    # plt.plot(x, [m*i + b for i in x],'brown')\n",
        "\n",
        "    #  for error at each iteration @ 100\n",
        "    yp = [m*i + b for i in x]\n",
        "    makeError = ((yp - y) ** 2).mean()\n",
        "    errors.append(makeError)\n",
        "plt.plot(x, [m*i + b for i in x],'red')\n",
        "# print(\"Slope (m) : \", m)\n",
        "# print(\"y-intercept (b) : \", b)\n",
        "\n",
        "# Plotting error against iteration number\n",
        "plt.figure()\n",
        "plt.plot(errors,'green')\n",
        "plt.xlabel('Iteration Number')\n",
        "plt.ylabel('Error')\n",
        "plt.show()\n"
      ],
      "metadata": {
        "colab": {
          "base_uri": "https://localhost:8080/",
          "height": 585
        },
        "id": "RA45DG7FBDpk",
        "outputId": "e419e06f-482d-491d-a541-e04aac82db98"
      },
      "execution_count": null,
      "outputs": [
        {
          "output_type": "stream",
          "name": "stderr",
          "text": [
            "<ipython-input-13-5754b2a68ff4>:33: RuntimeWarning: overflow encountered in square\n",
            "  makeError = ((yp - y) ** 2).mean()\n"
          ]
        },
        {
          "output_type": "display_data",
          "data": {
            "text/plain": [
              "<Figure size 432x288 with 1 Axes>"
            ],
            "image/png": "[encoded data removed]"
          },
          "metadata": {
            "needs_background": "light"
          }
        },
        {
          "output_type": "display_data",
          "data": {
            "text/plain": [
              "<Figure size 432x288 with 1 Axes>"
            ],
            "image/png": "[encoded data removed]"
          },
          "metadata": {
            "needs_background": "light"
          }
        }
      ]
    },
    {
      "cell_type": "markdown",
      "source": [
        "Updated the Learning Rate to 0.1 for the Data, to plot the error chart up to 2000 iterations"
      ],
      "metadata": {
        "id": "PBIyJ9j-B29R"
      }
    },
    {
      "cell_type": "code",
      "source": [
        "import matplotlib.pyplot as plt\n",
        "x = data['Midterm mark'] \n",
        "y = data['Final mark']\n",
        "\n",
        "\n",
        "# Initialize m = -0.5 and b = 0 and learning rate = 0.1\n",
        "m = -0.5\n",
        "b = 0\n",
        "alpha = 0.1\n",
        "\n",
        "\n",
        "x= x.values.reshape(-1,1) \n",
        "y = y.values.reshape(-1,1)\n",
        "# Create figure\n",
        "fig, ax = plt.subplots()\n",
        "\n",
        "# Create scatter plot of the data\n",
        "# ax.scatter(x, y)\n",
        "\n",
        "# Initializing empty list to store errors\n",
        "errors = []\n",
        "\n",
        "# Update m and b 2000 times\n",
        "for i in range(2000):\n",
        "    b = b - alpha * 2 * (b + m*x - y).mean()\n",
        "    m = m - alpha * 2 * (x*(b + m*x - y)).mean()\n",
        "    # ax.plot(x, [m*i + b for i in x], color='r')\n",
        "    \n",
        "    # plt.plot(x, [m*i + b for i in x],'brown')\n",
        "\n",
        "    #  error at each iteration for 2000\n",
        "    yp = np.float128([m*i + b for i in x])\n",
        "    error = np.float128(((yp - y) ** 2).mean())\n",
        "    errors.append(error)\n",
        "# plt.plot(x, [m*i + b for i in x],'green')\n",
        "print(\"Slope (m) : \", m)\n",
        "print(\"y-intercept (b) : \", b)\n",
        "\n",
        "# Plot error against iteration number\n",
        "plt.figure()\n",
        "plt.plot(errors)\n",
        "plt.xlabel('Iteration Number')\n",
        "plt.ylabel('Error')\n",
        "plt.show()\n"
      ],
      "metadata": {
        "colab": {
          "base_uri": "https://localhost:8080/",
          "height": 685
        },
        "id": "6cF1L3czBPF4",
        "outputId": "5ed620c9-0167-45c4-dfee-50faaaed333c"
      },
      "execution_count": null,
      "outputs": [
        {
          "output_type": "stream",
          "name": "stderr",
          "text": [
            "/usr/local/lib/python3.8/dist-packages/numpy/core/_methods.py:179: RuntimeWarning: overflow encountered in reduce\n",
            "  ret = umr_sum(arr, axis, dtype, out, keepdims, where=where)\n",
            "<ipython-input-14-adde1ab41d86>:32: RuntimeWarning: invalid value encountered in add\n",
            "  yp = np.float128([m*i + b for i in x])\n",
            "<ipython-input-14-adde1ab41d86>:25: RuntimeWarning: invalid value encountered in add\n",
            "  b = b - alpha * 2 * (b + m*x - y).mean()\n"
          ]
        },
        {
          "output_type": "stream",
          "name": "stdout",
          "text": [
            "Slope (m) :  nan\n",
            "y-intercept (b) :  nan\n"
          ]
        },
        {
          "output_type": "display_data",
          "data": {
            "text/plain": [
              "<Figure size 432x288 with 1 Axes>"
            ],
            "image/png": "[encoded data removed]"
          },
          "metadata": {
            "needs_background": "light"
          }
        },
        {
          "output_type": "display_data",
          "data": {
            "text/plain": [
              "<Figure size 432x288 with 1 Axes>"
            ],
            "image/png": "[encoded data removed]"
          },
          "metadata": {
            "needs_background": "light"
          }
        }
      ]
    },
    {
      "cell_type": "markdown",
      "source": [
        "Updated the Learning Rate to 0.1 for the Data, to plot the error chart up to 100 iterations for the standardized data"
      ],
      "metadata": {
        "id": "OqMd7cwFB8y1"
      }
    },
    {
      "cell_type": "code",
      "source": [
        "import matplotlib.pyplot as plt\n",
        "x = standardize(data)['Midterm mark'] \n",
        "y = standardize(data)['Final mark']\n",
        "\n",
        "\n",
        "# Initialize m = -0.5 and b = 0 and learning rate = 0.1\n",
        "m = -0.5\n",
        "b = 0\n",
        "alpha = 0.1\n",
        "\n",
        "\n",
        "x= x.values.reshape(-1,1) \n",
        "y = y.values.reshape(-1,1)\n",
        "# Create figure\n",
        "fig, ax = plt.subplots()\n",
        "\n",
        "# Creating scatter plot of the data\n",
        "ax.scatter(x, y)\n",
        "\n",
        "# Initializing empty list to store errors\n",
        "errors = []\n",
        "\n",
        "# Update m and b 100 times\n",
        "for i in range(100):\n",
        "    b = b - alpha * 2 * (b + m*x - y).mean()\n",
        "    m = m - alpha * 2 * (x*(b + m*x - y)).mean()\n",
        "    # ax.plot(x, [m*i + b for i in x], color='r')\n",
        "    # plt.plot(x, [m*i + b for i in x],'brown')\n",
        "    #  the error at each iteration\n",
        "    yp = [m*i + b for i in x]\n",
        "    error = ((yp - y) ** 2).mean()\n",
        "    errors.append(error)\n",
        "plt.plot(x, [m*i + b for i in x],'green')\n",
        "\n",
        "# Plotting the error against iteration number\n",
        "plt.figure()\n",
        "plt.plot(errors)\n",
        "plt.xlabel('Iteration Number')\n",
        "plt.ylabel('Error')\n",
        "plt.show()\n"
      ],
      "metadata": {
        "colab": {
          "base_uri": "https://localhost:8080/",
          "height": 530
        },
        "id": "vqF7vWPDAcBe",
        "outputId": "0036b89a-ebaf-47ff-a036-e1e81c210b8b"
      },
      "execution_count": null,
      "outputs": [
        {
          "output_type": "display_data",
          "data": {
            "text/plain": [
              "<Figure size 432x288 with 1 Axes>"
            ],
            "image/png": "[encoded data removed]"
          },
          "metadata": {
            "needs_background": "light"
          }
        },
        {
          "output_type": "display_data",
          "data": {
            "text/plain": [
              "<Figure size 432x288 with 1 Axes>"
            ],
            "image/png": "[encoded data removed]"
          },
          "metadata": {
            "needs_background": "light"
          }
        }
      ]
    },
    {
      "cell_type": "markdown",
      "source": [
        "Updated the Learning Rate to 0.1 for the Data, to plot the error chart up to 2000 iterations for the standardized data"
      ],
      "metadata": {
        "id": "49H9EkUCCAs6"
      }
    },
    {
      "cell_type": "code",
      "source": [
        "import matplotlib.pyplot as plt\n",
        "x = standardize(data)['Midterm mark'] \n",
        "y = standardize(data)['Final mark']\n",
        "\n",
        "\n",
        "# Initialize m = -0.5 and b = 0 and learning rate = 0.1\n",
        "m = -0.5\n",
        "b = 0\n",
        "alpha = 0.1\n",
        "\n",
        "\n",
        "x= x.values.reshape(-1,1) \n",
        "y = y.values.reshape(-1,1)\n",
        "# Creating figure\n",
        "fig, ax = plt.subplots()\n",
        "\n",
        "# Creating the scatter plot of the data\n",
        "ax.scatter(x, y)\n",
        "\n",
        "# Initializing empty list to store errors\n",
        "errors = []\n",
        "\n",
        "# Update m and b 2000 times\n",
        "for i in range(2000):\n",
        "    b = b - alpha * 2 * (b + m*x - y).mean()\n",
        "    m = m - alpha * 2 * (x*(b + m*x - y)).mean()\n",
        "    # ax.plot(x, [m*i + b for i in x], color='r')\n",
        "    \n",
        "    # plt.plot(x, [m*i + b for i in x],'brown')\n",
        "\n",
        "    #  the error at each iteration\n",
        "    yp = [m*i + b for i in x]\n",
        "    error = ((yp - y) ** 2).mean()\n",
        "    errors.append(error)\n",
        "plt.plot(x, [m*i + b for i in x],'green')\n",
        "\n",
        "# Plot error against iteration number\n",
        "plt.figure()\n",
        "plt.plot(errors)\n",
        "plt.xlabel('Iteration Number')\n",
        "plt.ylabel('Error')\n",
        "plt.show()\n"
      ],
      "metadata": {
        "colab": {
          "base_uri": "https://localhost:8080/",
          "height": 530
        },
        "id": "d-AnPxY5A5vR",
        "outputId": "146cc2d3-49fb-4455-95cc-dbf8a75fcc92"
      },
      "execution_count": null,
      "outputs": [
        {
          "output_type": "display_data",
          "data": {
            "text/plain": [
              "<Figure size 432x288 with 1 Axes>"
            ],
            "image/png": "[encoded data removed]"
          },
          "metadata": {
            "needs_background": "light"
          }
        },
        {
          "output_type": "display_data",
          "data": {
            "text/plain": [
              "<Figure size 432x288 with 1 Axes>"
            ],
            "image/png": "[encoded data removed]"
          },
          "metadata": {
            "needs_background": "light"
          }
        }
      ]
    },
    {
      "cell_type": "markdown",
      "source": [
        "**Lab Questions**\n",
        "---\n",
        "1. When changing the learning rate to 0.1 for the sets of standardized data, the error plots more closely resembeled the error plots of the non standardized data. The higher learning rate allowed the error to decrease in the earlier iterations, unlike the lower learning rate, where the error decreased linerarly. Increasing it too much can make the data more sensitive to noise and lead to overfitting in some cases, so it is important to choose the perfect learning rate to fit your data."
      ],
      "metadata": {
        "id": "TMS-kRPsWocM"
      }
    },
    {
      "cell_type": "markdown",
      "source": [
        "2. By standardizing the data, the data gets brought to a more normal distribution value usually between 0 and 1. This allows for all the variables to be more equally represneted within the algoritihims, so that one feature is not skewing the rest of the results due to its larger dataset, or any other factors"
      ],
      "metadata": {
        "id": "bbN-NFv-Q7fN"
      }
    }
  ]
}